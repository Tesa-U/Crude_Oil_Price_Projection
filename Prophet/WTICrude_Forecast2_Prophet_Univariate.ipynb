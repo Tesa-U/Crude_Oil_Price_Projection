{
 "cells": [
  {
   "cell_type": "code",
   "execution_count": 134,
   "metadata": {
    "executionInfo": {
     "elapsed": 163,
     "status": "ok",
     "timestamp": 1643075557153,
     "user": {
      "displayName": "Stephan",
      "photoUrl": "https://lh3.googleusercontent.com/a-/AOh14Gija7AV182I_HO-0SJcJLM-D7PauAtphl3tNNkAxA=s64",
      "userId": "17758018882495956194"
     },
     "user_tz": 300
    },
    "id": "5AhGr3bi2GFC"
   },
   "outputs": [],
   "source": [
    "# importing dependencies\n",
    "import pandas as pd\n",
    "from prophet import Prophet\n",
    "import matplotlib.pyplot as plt\n",
    "import seaborn as sms\n",
    "import numpy as np\n",
    "import datetime as dt\n",
    "from prophet.diagnostics import cross_validation\n",
    "from prophet.diagnostics import performance_metrics\n",
    "from prophet.plot import plot_cross_validation_metric\n",
    "from sklearn.preprocessing import MinMaxScaler, StandardScaler"
   ]
  },
  {
   "cell_type": "code",
   "execution_count": 135,
   "metadata": {
    "colab": {
     "base_uri": "https://localhost:8080/",
     "height": 285
    },
    "executionInfo": {
     "elapsed": 157,
     "status": "ok",
     "timestamp": 1643075559555,
     "user": {
      "displayName": "Stephan",
      "photoUrl": "https://lh3.googleusercontent.com/a-/AOh14Gija7AV182I_HO-0SJcJLM-D7PauAtphl3tNNkAxA=s64",
      "userId": "17758018882495956194"
     },
     "user_tz": 300
    },
    "id": "GR7VIAC63dZg",
    "outputId": "d0f75090-7ad0-4890-fbf8-aaa4c31ca31a",
    "scrolled": true
   },
   "outputs": [
    {
     "data": {
      "text/html": [
       "<div>\n",
       "<style scoped>\n",
       "    .dataframe tbody tr th:only-of-type {\n",
       "        vertical-align: middle;\n",
       "    }\n",
       "\n",
       "    .dataframe tbody tr th {\n",
       "        vertical-align: top;\n",
       "    }\n",
       "\n",
       "    .dataframe thead th {\n",
       "        text-align: right;\n",
       "    }\n",
       "</style>\n",
       "<table border=\"1\" class=\"dataframe\">\n",
       "  <thead>\n",
       "    <tr style=\"text-align: right;\">\n",
       "      <th></th>\n",
       "      <th>Date</th>\n",
       "      <th>Cushing, OK Crude Oil Future Contract ($/Bar.)</th>\n",
       "      <th>U.S. Field Production of Crude Oil (1k Bar.)</th>\n",
       "      <th>Product Supplied of Crude Oil and Petroleum Products (1k Bar.)</th>\n",
       "      <th>Gross Inputs to Refineries (1k Bar./Day)</th>\n",
       "      <th>Operable Crude Oil Distillation Capacity (1k Bar./Calendar Day)</th>\n",
       "      <th>Operating Crude Oil Distillation Capacity (1k Bar./Day)</th>\n",
       "      <th>Idle Crude Oil Distillation Capacity (1k Bar./Day)</th>\n",
       "      <th>Percent Utilization of Refinery Operable Capacity</th>\n",
       "      <th>Cushing, OK WTI Spot Price FOB ($/Bar.)</th>\n",
       "    </tr>\n",
       "  </thead>\n",
       "  <tbody>\n",
       "    <tr>\n",
       "      <th>0</th>\n",
       "      <td>1/1/1986</td>\n",
       "      <td>23.0</td>\n",
       "      <td>283248</td>\n",
       "      <td>498728</td>\n",
       "      <td>12583</td>\n",
       "      <td>15459</td>\n",
       "      <td>14639</td>\n",
       "      <td>820</td>\n",
       "      <td>81.4</td>\n",
       "      <td>22.9</td>\n",
       "    </tr>\n",
       "    <tr>\n",
       "      <th>1</th>\n",
       "      <td>2/1/1986</td>\n",
       "      <td>15.5</td>\n",
       "      <td>256855</td>\n",
       "      <td>453209</td>\n",
       "      <td>12068</td>\n",
       "      <td>15485</td>\n",
       "      <td>14538</td>\n",
       "      <td>947</td>\n",
       "      <td>77.9</td>\n",
       "      <td>15.5</td>\n",
       "    </tr>\n",
       "    <tr>\n",
       "      <th>2</th>\n",
       "      <td>3/1/1986</td>\n",
       "      <td>12.6</td>\n",
       "      <td>279413</td>\n",
       "      <td>504565</td>\n",
       "      <td>11759</td>\n",
       "      <td>15485</td>\n",
       "      <td>14517</td>\n",
       "      <td>968</td>\n",
       "      <td>75.9</td>\n",
       "      <td>12.6</td>\n",
       "    </tr>\n",
       "    <tr>\n",
       "      <th>3</th>\n",
       "      <td>4/1/1986</td>\n",
       "      <td>12.8</td>\n",
       "      <td>265917</td>\n",
       "      <td>478339</td>\n",
       "      <td>12603</td>\n",
       "      <td>15473</td>\n",
       "      <td>14550</td>\n",
       "      <td>923</td>\n",
       "      <td>81.5</td>\n",
       "      <td>12.8</td>\n",
       "    </tr>\n",
       "    <tr>\n",
       "      <th>4</th>\n",
       "      <td>5/1/1986</td>\n",
       "      <td>15.3</td>\n",
       "      <td>273964</td>\n",
       "      <td>495789</td>\n",
       "      <td>13314</td>\n",
       "      <td>15484</td>\n",
       "      <td>14805</td>\n",
       "      <td>679</td>\n",
       "      <td>86.0</td>\n",
       "      <td>15.4</td>\n",
       "    </tr>\n",
       "    <tr>\n",
       "      <th>...</th>\n",
       "      <td>...</td>\n",
       "      <td>...</td>\n",
       "      <td>...</td>\n",
       "      <td>...</td>\n",
       "      <td>...</td>\n",
       "      <td>...</td>\n",
       "      <td>...</td>\n",
       "      <td>...</td>\n",
       "      <td>...</td>\n",
       "      <td>...</td>\n",
       "    </tr>\n",
       "    <tr>\n",
       "      <th>339</th>\n",
       "      <td>4/1/2014</td>\n",
       "      <td>102.0</td>\n",
       "      <td>255795</td>\n",
       "      <td>565032</td>\n",
       "      <td>16264</td>\n",
       "      <td>17951</td>\n",
       "      <td>17725</td>\n",
       "      <td>226</td>\n",
       "      <td>90.6</td>\n",
       "      <td>102.1</td>\n",
       "    </tr>\n",
       "    <tr>\n",
       "      <th>340</th>\n",
       "      <td>5/1/2014</td>\n",
       "      <td>101.8</td>\n",
       "      <td>267996</td>\n",
       "      <td>576636</td>\n",
       "      <td>16197</td>\n",
       "      <td>17951</td>\n",
       "      <td>17453</td>\n",
       "      <td>498</td>\n",
       "      <td>90.2</td>\n",
       "      <td>102.2</td>\n",
       "    </tr>\n",
       "    <tr>\n",
       "      <th>341</th>\n",
       "      <td>6/1/2014</td>\n",
       "      <td>105.1</td>\n",
       "      <td>262288</td>\n",
       "      <td>566345</td>\n",
       "      <td>16087</td>\n",
       "      <td>17825</td>\n",
       "      <td>17579</td>\n",
       "      <td>246</td>\n",
       "      <td>90.3</td>\n",
       "      <td>105.8</td>\n",
       "    </tr>\n",
       "    <tr>\n",
       "      <th>342</th>\n",
       "      <td>7/1/2014</td>\n",
       "      <td>102.4</td>\n",
       "      <td>274131</td>\n",
       "      <td>596659</td>\n",
       "      <td>16880</td>\n",
       "      <td>17835</td>\n",
       "      <td>17678</td>\n",
       "      <td>157</td>\n",
       "      <td>94.7</td>\n",
       "      <td>103.6</td>\n",
       "    </tr>\n",
       "    <tr>\n",
       "      <th>343</th>\n",
       "      <td>8/1/2014</td>\n",
       "      <td>96.1</td>\n",
       "      <td>276813</td>\n",
       "      <td>600526</td>\n",
       "      <td>16707</td>\n",
       "      <td>17835</td>\n",
       "      <td>17563</td>\n",
       "      <td>272</td>\n",
       "      <td>93.7</td>\n",
       "      <td>96.5</td>\n",
       "    </tr>\n",
       "  </tbody>\n",
       "</table>\n",
       "<p>344 rows × 10 columns</p>\n",
       "</div>"
      ],
      "text/plain": [
       "         Date  Cushing, OK Crude Oil Future Contract ($/Bar.)  \\\n",
       "0    1/1/1986                                            23.0   \n",
       "1    2/1/1986                                            15.5   \n",
       "2    3/1/1986                                            12.6   \n",
       "3    4/1/1986                                            12.8   \n",
       "4    5/1/1986                                            15.3   \n",
       "..        ...                                             ...   \n",
       "339  4/1/2014                                           102.0   \n",
       "340  5/1/2014                                           101.8   \n",
       "341  6/1/2014                                           105.1   \n",
       "342  7/1/2014                                           102.4   \n",
       "343  8/1/2014                                            96.1   \n",
       "\n",
       "     U.S. Field Production of Crude Oil (1k Bar.)  \\\n",
       "0                                          283248   \n",
       "1                                          256855   \n",
       "2                                          279413   \n",
       "3                                          265917   \n",
       "4                                          273964   \n",
       "..                                            ...   \n",
       "339                                        255795   \n",
       "340                                        267996   \n",
       "341                                        262288   \n",
       "342                                        274131   \n",
       "343                                        276813   \n",
       "\n",
       "     Product Supplied of Crude Oil and Petroleum Products (1k Bar.)  \\\n",
       "0                                               498728                \n",
       "1                                               453209                \n",
       "2                                               504565                \n",
       "3                                               478339                \n",
       "4                                               495789                \n",
       "..                                                 ...                \n",
       "339                                             565032                \n",
       "340                                             576636                \n",
       "341                                             566345                \n",
       "342                                             596659                \n",
       "343                                             600526                \n",
       "\n",
       "     Gross Inputs to Refineries (1k Bar./Day)  \\\n",
       "0                                       12583   \n",
       "1                                       12068   \n",
       "2                                       11759   \n",
       "3                                       12603   \n",
       "4                                       13314   \n",
       "..                                        ...   \n",
       "339                                     16264   \n",
       "340                                     16197   \n",
       "341                                     16087   \n",
       "342                                     16880   \n",
       "343                                     16707   \n",
       "\n",
       "     Operable Crude Oil Distillation Capacity (1k Bar./Calendar Day)  \\\n",
       "0                                                15459                 \n",
       "1                                                15485                 \n",
       "2                                                15485                 \n",
       "3                                                15473                 \n",
       "4                                                15484                 \n",
       "..                                                 ...                 \n",
       "339                                              17951                 \n",
       "340                                              17951                 \n",
       "341                                              17825                 \n",
       "342                                              17835                 \n",
       "343                                              17835                 \n",
       "\n",
       "     Operating Crude Oil Distillation Capacity (1k Bar./Day)  \\\n",
       "0                                                14639         \n",
       "1                                                14538         \n",
       "2                                                14517         \n",
       "3                                                14550         \n",
       "4                                                14805         \n",
       "..                                                 ...         \n",
       "339                                              17725         \n",
       "340                                              17453         \n",
       "341                                              17579         \n",
       "342                                              17678         \n",
       "343                                              17563         \n",
       "\n",
       "     Idle Crude Oil Distillation Capacity (1k Bar./Day)  \\\n",
       "0                                                  820    \n",
       "1                                                  947    \n",
       "2                                                  968    \n",
       "3                                                  923    \n",
       "4                                                  679    \n",
       "..                                                 ...    \n",
       "339                                                226    \n",
       "340                                                498    \n",
       "341                                                246    \n",
       "342                                                157    \n",
       "343                                                272    \n",
       "\n",
       "     Percent Utilization of Refinery Operable Capacity  \\\n",
       "0                                                 81.4   \n",
       "1                                                 77.9   \n",
       "2                                                 75.9   \n",
       "3                                                 81.5   \n",
       "4                                                 86.0   \n",
       "..                                                 ...   \n",
       "339                                               90.6   \n",
       "340                                               90.2   \n",
       "341                                               90.3   \n",
       "342                                               94.7   \n",
       "343                                               93.7   \n",
       "\n",
       "     Cushing, OK WTI Spot Price FOB ($/Bar.)  \n",
       "0                                       22.9  \n",
       "1                                       15.5  \n",
       "2                                       12.6  \n",
       "3                                       12.8  \n",
       "4                                       15.4  \n",
       "..                                       ...  \n",
       "339                                    102.1  \n",
       "340                                    102.2  \n",
       "341                                    105.8  \n",
       "342                                    103.6  \n",
       "343                                     96.5  \n",
       "\n",
       "[344 rows x 10 columns]"
      ]
     },
     "execution_count": 135,
     "metadata": {},
     "output_type": "execute_result"
    }
   ],
   "source": [
    "# read in CSV training data\n",
    "df_train = pd.read_csv('C:/Users/sweir/OneDrive/Desktop/Analysis Projects/Crude_Oil_Price_Projection/ML Resources/Cleaned_Crude_Oil_Dataset_Train.csv')\n",
    "df_train"
   ]
  },
  {
   "cell_type": "markdown",
   "metadata": {},
   "source": [
    "### Prepping training and testing DataFrames. Data was split 80-20 into training and testing, respectively. Note that the testing data was further split in half in order to help make more accurate projections beyond the original dataset."
   ]
  },
  {
   "cell_type": "code",
   "execution_count": 136,
   "metadata": {
    "colab": {
     "base_uri": "https://localhost:8080/"
    },
    "executionInfo": {
     "elapsed": 148,
     "status": "ok",
     "timestamp": 1643075563548,
     "user": {
      "displayName": "Stephan",
      "photoUrl": "https://lh3.googleusercontent.com/a-/AOh14Gija7AV182I_HO-0SJcJLM-D7PauAtphl3tNNkAxA=s64",
      "userId": "17758018882495956194"
     },
     "user_tz": 300
    },
    "id": "x08Q3v6vHVYC",
    "outputId": "1978e29b-fa5d-4085-aa2e-2e930a1d73e7"
   },
   "outputs": [
    {
     "data": {
      "text/plain": [
       "Date                                                                object\n",
       "Cushing, OK Crude Oil Future Contract ($/Bar.)                     float64\n",
       "U.S. Field Production of Crude Oil (1k Bar.)                         int64\n",
       "Product Supplied of Crude Oil and Petroleum Products (1k Bar.)       int64\n",
       "Gross Inputs to Refineries (1k Bar./Day)                             int64\n",
       "Operable Crude Oil Distillation Capacity (1k Bar./Calendar Day)      int64\n",
       "Operating Crude Oil Distillation Capacity (1k Bar./Day)              int64\n",
       "Idle Crude Oil Distillation Capacity (1k Bar./Day)                   int64\n",
       "Percent Utilization of Refinery Operable Capacity                  float64\n",
       "Cushing, OK WTI Spot Price FOB ($/Bar.)                            float64\n",
       "dtype: object"
      ]
     },
     "execution_count": 136,
     "metadata": {},
     "output_type": "execute_result"
    }
   ],
   "source": [
    "# viewing datatypes\n",
    "df_train.dtypes"
   ]
  },
  {
   "cell_type": "code",
   "execution_count": 137,
   "metadata": {
    "executionInfo": {
     "elapsed": 152,
     "status": "ok",
     "timestamp": 1643075565615,
     "user": {
      "displayName": "Stephan",
      "photoUrl": "https://lh3.googleusercontent.com/a-/AOh14Gija7AV182I_HO-0SJcJLM-D7PauAtphl3tNNkAxA=s64",
      "userId": "17758018882495956194"
     },
     "user_tz": 300
    },
    "id": "czXgKB1mIlXT"
   },
   "outputs": [],
   "source": [
    "# to convert the date column to type DATETIME\n",
    "df_train['Date'] = pd.to_datetime(df_train['Date'])"
   ]
  },
  {
   "cell_type": "code",
   "execution_count": 138,
   "metadata": {
    "colab": {
     "base_uri": "https://localhost:8080/"
    },
    "executionInfo": {
     "elapsed": 190,
     "status": "ok",
     "timestamp": 1643075567703,
     "user": {
      "displayName": "Stephan",
      "photoUrl": "https://lh3.googleusercontent.com/a-/AOh14Gija7AV182I_HO-0SJcJLM-D7PauAtphl3tNNkAxA=s64",
      "userId": "17758018882495956194"
     },
     "user_tz": 300
    },
    "id": "FXL-u621RMcw",
    "outputId": "fee050d6-601a-41b6-d1dd-651a8a82d10b"
   },
   "outputs": [
    {
     "data": {
      "text/plain": [
       "344"
      ]
     },
     "execution_count": 138,
     "metadata": {},
     "output_type": "execute_result"
    }
   ],
   "source": [
    "# retrieving number of observations\n",
    "len(df_train)"
   ]
  },
  {
   "cell_type": "code",
   "execution_count": 139,
   "metadata": {
    "executionInfo": {
     "elapsed": 156,
     "status": "ok",
     "timestamp": 1643075570055,
     "user": {
      "displayName": "Stephan",
      "photoUrl": "https://lh3.googleusercontent.com/a-/AOh14Gija7AV182I_HO-0SJcJLM-D7PauAtphl3tNNkAxA=s64",
      "userId": "17758018882495956194"
     },
     "user_tz": 300
    },
    "id": "D_QgbzQqbDtR",
    "scrolled": true
   },
   "outputs": [],
   "source": [
    "# renaming columns to fit naming conventions of prophet\n",
    "df_train.rename(columns={'Date': 'ds', 'Cushing, OK Crude Oil Future Contract ($/Bar.)': 'y'}, inplace=True)\n"
   ]
  },
  {
   "cell_type": "code",
   "execution_count": 140,
   "metadata": {},
   "outputs": [],
   "source": [
    "# dropping all other columns\n",
    "df_train.drop(['U.S. Field Production of Crude Oil (1k Bar.)', 'Product Supplied of Crude Oil and Petroleum Products (1k Bar.)', 'Gross Inputs to Refineries (1k Bar./Day)', 'Operable Crude Oil Distillation Capacity (1k Bar./Calendar Day)', 'Operating Crude Oil Distillation Capacity (1k Bar./Day)', 'Idle Crude Oil Distillation Capacity (1k Bar./Day)', 'Percent Utilization of Refinery Operable Capacity', 'Cushing, OK WTI Spot Price FOB ($/Bar.)'], axis=1, inplace=True)"
   ]
  },
  {
   "cell_type": "code",
   "execution_count": 141,
   "metadata": {},
   "outputs": [
    {
     "data": {
      "text/html": [
       "<div>\n",
       "<style scoped>\n",
       "    .dataframe tbody tr th:only-of-type {\n",
       "        vertical-align: middle;\n",
       "    }\n",
       "\n",
       "    .dataframe tbody tr th {\n",
       "        vertical-align: top;\n",
       "    }\n",
       "\n",
       "    .dataframe thead th {\n",
       "        text-align: right;\n",
       "    }\n",
       "</style>\n",
       "<table border=\"1\" class=\"dataframe\">\n",
       "  <thead>\n",
       "    <tr style=\"text-align: right;\">\n",
       "      <th></th>\n",
       "      <th>y</th>\n",
       "      <th>ds</th>\n",
       "    </tr>\n",
       "  </thead>\n",
       "  <tbody>\n",
       "    <tr>\n",
       "      <th>0</th>\n",
       "      <td>23.0</td>\n",
       "      <td>1986-01-01</td>\n",
       "    </tr>\n",
       "    <tr>\n",
       "      <th>1</th>\n",
       "      <td>15.5</td>\n",
       "      <td>1986-02-01</td>\n",
       "    </tr>\n",
       "    <tr>\n",
       "      <th>2</th>\n",
       "      <td>12.6</td>\n",
       "      <td>1986-03-01</td>\n",
       "    </tr>\n",
       "    <tr>\n",
       "      <th>3</th>\n",
       "      <td>12.8</td>\n",
       "      <td>1986-04-01</td>\n",
       "    </tr>\n",
       "    <tr>\n",
       "      <th>4</th>\n",
       "      <td>15.3</td>\n",
       "      <td>1986-05-01</td>\n",
       "    </tr>\n",
       "  </tbody>\n",
       "</table>\n",
       "</div>"
      ],
      "text/plain": [
       "      y         ds\n",
       "0  23.0 1986-01-01\n",
       "1  15.5 1986-02-01\n",
       "2  12.6 1986-03-01\n",
       "3  12.8 1986-04-01\n",
       "4  15.3 1986-05-01"
      ]
     },
     "execution_count": 141,
     "metadata": {},
     "output_type": "execute_result"
    }
   ],
   "source": [
    "# reordering columns to fit prophet requirements\n",
    "df_train1 = df_train[['y', 'ds']]\n",
    "df_train1.head()"
   ]
  },
  {
   "cell_type": "code",
   "execution_count": 144,
   "metadata": {},
   "outputs": [
    {
     "data": {
      "text/html": [
       "<div>\n",
       "<style scoped>\n",
       "    .dataframe tbody tr th:only-of-type {\n",
       "        vertical-align: middle;\n",
       "    }\n",
       "\n",
       "    .dataframe tbody tr th {\n",
       "        vertical-align: top;\n",
       "    }\n",
       "\n",
       "    .dataframe thead th {\n",
       "        text-align: right;\n",
       "    }\n",
       "</style>\n",
       "<table border=\"1\" class=\"dataframe\">\n",
       "  <thead>\n",
       "    <tr style=\"text-align: right;\">\n",
       "      <th></th>\n",
       "      <th>Date</th>\n",
       "      <th>Cushing, OK Crude Oil Future Contract ($/Bar.)</th>\n",
       "      <th>U.S. Field Production of Crude Oil (1k Bar.)</th>\n",
       "      <th>Product Supplied of Crude Oil and Petroleum Products (1k Bar.)</th>\n",
       "      <th>Gross Inputs to Refineries (1k Bar./Day)</th>\n",
       "      <th>Operable Crude Oil Distillation Capacity (1k Bar./Calendar Day)</th>\n",
       "      <th>Operating Crude Oil Distillation Capacity (1k Bar./Day)</th>\n",
       "      <th>Idle Crude Oil Distillation Capacity (1k Bar./Day)</th>\n",
       "      <th>Percent Utilization of Refinery Operable Capacity</th>\n",
       "      <th>Cushing, OK WTI Spot Price FOB ($/Bar.)</th>\n",
       "    </tr>\n",
       "  </thead>\n",
       "  <tbody>\n",
       "    <tr>\n",
       "      <th>0</th>\n",
       "      <td>9/1/2014</td>\n",
       "      <td>93.0</td>\n",
       "      <td>272571</td>\n",
       "      <td>576110</td>\n",
       "      <td>16358</td>\n",
       "      <td>17835</td>\n",
       "      <td>17678</td>\n",
       "      <td>157</td>\n",
       "      <td>91.7</td>\n",
       "      <td>93.2</td>\n",
       "    </tr>\n",
       "    <tr>\n",
       "      <th>1</th>\n",
       "      <td>10/1/2014</td>\n",
       "      <td>84.3</td>\n",
       "      <td>287193</td>\n",
       "      <td>610719</td>\n",
       "      <td>15660</td>\n",
       "      <td>17851</td>\n",
       "      <td>17466</td>\n",
       "      <td>385</td>\n",
       "      <td>87.7</td>\n",
       "      <td>84.4</td>\n",
       "    </tr>\n",
       "    <tr>\n",
       "      <th>2</th>\n",
       "      <td>11/1/2014</td>\n",
       "      <td>75.8</td>\n",
       "      <td>279793</td>\n",
       "      <td>581811</td>\n",
       "      <td>16367</td>\n",
       "      <td>17811</td>\n",
       "      <td>17672</td>\n",
       "      <td>139</td>\n",
       "      <td>91.9</td>\n",
       "      <td>75.8</td>\n",
       "    </tr>\n",
       "    <tr>\n",
       "      <th>3</th>\n",
       "      <td>12/1/2014</td>\n",
       "      <td>59.3</td>\n",
       "      <td>296480</td>\n",
       "      <td>604310</td>\n",
       "      <td>16751</td>\n",
       "      <td>17811</td>\n",
       "      <td>17635</td>\n",
       "      <td>177</td>\n",
       "      <td>94.1</td>\n",
       "      <td>59.3</td>\n",
       "    </tr>\n",
       "    <tr>\n",
       "      <th>4</th>\n",
       "      <td>1/1/2015</td>\n",
       "      <td>47.3</td>\n",
       "      <td>290856</td>\n",
       "      <td>597459</td>\n",
       "      <td>15767</td>\n",
       "      <td>17967</td>\n",
       "      <td>17768</td>\n",
       "      <td>200</td>\n",
       "      <td>87.8</td>\n",
       "      <td>47.2</td>\n",
       "    </tr>\n",
       "  </tbody>\n",
       "</table>\n",
       "</div>"
      ],
      "text/plain": [
       "        Date  Cushing, OK Crude Oil Future Contract ($/Bar.)  \\\n",
       "0   9/1/2014                                            93.0   \n",
       "1  10/1/2014                                            84.3   \n",
       "2  11/1/2014                                            75.8   \n",
       "3  12/1/2014                                            59.3   \n",
       "4   1/1/2015                                            47.3   \n",
       "\n",
       "   U.S. Field Production of Crude Oil (1k Bar.)  \\\n",
       "0                                        272571   \n",
       "1                                        287193   \n",
       "2                                        279793   \n",
       "3                                        296480   \n",
       "4                                        290856   \n",
       "\n",
       "   Product Supplied of Crude Oil and Petroleum Products (1k Bar.)  \\\n",
       "0                                             576110                \n",
       "1                                             610719                \n",
       "2                                             581811                \n",
       "3                                             604310                \n",
       "4                                             597459                \n",
       "\n",
       "   Gross Inputs to Refineries (1k Bar./Day)  \\\n",
       "0                                     16358   \n",
       "1                                     15660   \n",
       "2                                     16367   \n",
       "3                                     16751   \n",
       "4                                     15767   \n",
       "\n",
       "   Operable Crude Oil Distillation Capacity (1k Bar./Calendar Day)  \\\n",
       "0                                              17835                 \n",
       "1                                              17851                 \n",
       "2                                              17811                 \n",
       "3                                              17811                 \n",
       "4                                              17967                 \n",
       "\n",
       "   Operating Crude Oil Distillation Capacity (1k Bar./Day)  \\\n",
       "0                                              17678         \n",
       "1                                              17466         \n",
       "2                                              17672         \n",
       "3                                              17635         \n",
       "4                                              17768         \n",
       "\n",
       "   Idle Crude Oil Distillation Capacity (1k Bar./Day)  \\\n",
       "0                                                157    \n",
       "1                                                385    \n",
       "2                                                139    \n",
       "3                                                177    \n",
       "4                                                200    \n",
       "\n",
       "   Percent Utilization of Refinery Operable Capacity  \\\n",
       "0                                               91.7   \n",
       "1                                               87.7   \n",
       "2                                               91.9   \n",
       "3                                               94.1   \n",
       "4                                               87.8   \n",
       "\n",
       "   Cushing, OK WTI Spot Price FOB ($/Bar.)  \n",
       "0                                     93.2  \n",
       "1                                     84.4  \n",
       "2                                     75.8  \n",
       "3                                     59.3  \n",
       "4                                     47.2  "
      ]
     },
     "execution_count": 144,
     "metadata": {},
     "output_type": "execute_result"
    }
   ],
   "source": [
    "# read in CSV training eval data\n",
    "df_eval = pd.read_csv('C:/Users/sweir/OneDrive/Desktop/Analysis Projects/Crude_Oil_Price_Projection/ML Resources/Cleaned_Crude_Oil_Dataset_Test1.csv')\n",
    "df_eval.head()"
   ]
  },
  {
   "cell_type": "code",
   "execution_count": 145,
   "metadata": {},
   "outputs": [],
   "source": [
    "# to convert the date column to type DATETIME\n",
    "df_eval['Date'] = pd.to_datetime(df_eval['Date'])"
   ]
  },
  {
   "cell_type": "code",
   "execution_count": 146,
   "metadata": {},
   "outputs": [],
   "source": [
    "# renaming columns to fit naming conventions of prophet\n",
    "df_eval.rename(columns={'Date': 'ds', 'Cushing, OK Crude Oil Future Contract ($/Bar.)': 'y'}, inplace=True)"
   ]
  },
  {
   "cell_type": "code",
   "execution_count": 147,
   "metadata": {},
   "outputs": [],
   "source": [
    "# dropping all other columns\n",
    "df_eval.drop(['U.S. Field Production of Crude Oil (1k Bar.)', 'Product Supplied of Crude Oil and Petroleum Products (1k Bar.)', 'Gross Inputs to Refineries (1k Bar./Day)', 'Operable Crude Oil Distillation Capacity (1k Bar./Calendar Day)', 'Operating Crude Oil Distillation Capacity (1k Bar./Day)', 'Idle Crude Oil Distillation Capacity (1k Bar./Day)', 'Percent Utilization of Refinery Operable Capacity', 'Cushing, OK WTI Spot Price FOB ($/Bar.)'], axis=1, inplace=True)"
   ]
  },
  {
   "cell_type": "code",
   "execution_count": 148,
   "metadata": {},
   "outputs": [
    {
     "data": {
      "text/html": [
       "<div>\n",
       "<style scoped>\n",
       "    .dataframe tbody tr th:only-of-type {\n",
       "        vertical-align: middle;\n",
       "    }\n",
       "\n",
       "    .dataframe tbody tr th {\n",
       "        vertical-align: top;\n",
       "    }\n",
       "\n",
       "    .dataframe thead th {\n",
       "        text-align: right;\n",
       "    }\n",
       "</style>\n",
       "<table border=\"1\" class=\"dataframe\">\n",
       "  <thead>\n",
       "    <tr style=\"text-align: right;\">\n",
       "      <th></th>\n",
       "      <th>y</th>\n",
       "      <th>ds</th>\n",
       "    </tr>\n",
       "  </thead>\n",
       "  <tbody>\n",
       "    <tr>\n",
       "      <th>0</th>\n",
       "      <td>93.0</td>\n",
       "      <td>2014-09-01</td>\n",
       "    </tr>\n",
       "    <tr>\n",
       "      <th>1</th>\n",
       "      <td>84.3</td>\n",
       "      <td>2014-10-01</td>\n",
       "    </tr>\n",
       "    <tr>\n",
       "      <th>2</th>\n",
       "      <td>75.8</td>\n",
       "      <td>2014-11-01</td>\n",
       "    </tr>\n",
       "    <tr>\n",
       "      <th>3</th>\n",
       "      <td>59.3</td>\n",
       "      <td>2014-12-01</td>\n",
       "    </tr>\n",
       "    <tr>\n",
       "      <th>4</th>\n",
       "      <td>47.3</td>\n",
       "      <td>2015-01-01</td>\n",
       "    </tr>\n",
       "  </tbody>\n",
       "</table>\n",
       "</div>"
      ],
      "text/plain": [
       "      y         ds\n",
       "0  93.0 2014-09-01\n",
       "1  84.3 2014-10-01\n",
       "2  75.8 2014-11-01\n",
       "3  59.3 2014-12-01\n",
       "4  47.3 2015-01-01"
      ]
     },
     "execution_count": 148,
     "metadata": {},
     "output_type": "execute_result"
    }
   ],
   "source": [
    "# reordering columns to fit prophet requirements\n",
    "df_eval1 = df_eval[['y', 'ds']]\n",
    "df_eval1.head()"
   ]
  },
  {
   "cell_type": "code",
   "execution_count": 149,
   "metadata": {
    "colab": {
     "base_uri": "https://localhost:8080/"
    },
    "executionInfo": {
     "elapsed": 324,
     "status": "ok",
     "timestamp": 1643075630022,
     "user": {
      "displayName": "Stephan",
      "photoUrl": "https://lh3.googleusercontent.com/a-/AOh14Gija7AV182I_HO-0SJcJLM-D7PauAtphl3tNNkAxA=s64",
      "userId": "17758018882495956194"
     },
     "user_tz": 300
    },
    "id": "eHkOhLw5gufu",
    "outputId": "99e073b3-848f-47a8-8f06-35e2a12515d0"
   },
   "outputs": [
    {
     "name": "stderr",
     "output_type": "stream",
     "text": [
      "INFO:prophet:Disabling weekly seasonality. Run prophet with weekly_seasonality=True to override this.\n",
      "INFO:prophet:Disabling daily seasonality. Run prophet with daily_seasonality=True to override this.\n"
     ]
    }
   ],
   "source": [
    "# building/fitting the model \n",
    "m = Prophet(interval_width=0.95, seasonality_mode='multiplicative')\n",
    "model = m.fit(df_train1)"
   ]
  },
  {
   "cell_type": "code",
   "execution_count": 150,
   "metadata": {
    "executionInfo": {
     "elapsed": 147,
     "status": "ok",
     "timestamp": 1643075633584,
     "user": {
      "displayName": "Stephan",
      "photoUrl": "https://lh3.googleusercontent.com/a-/AOh14Gija7AV182I_HO-0SJcJLM-D7PauAtphl3tNNkAxA=s64",
      "userId": "17758018882495956194"
     },
     "user_tz": 300
    },
    "id": "WruDFSV_6u39"
   },
   "outputs": [
    {
     "data": {
      "text/html": [
       "<div>\n",
       "<style scoped>\n",
       "    .dataframe tbody tr th:only-of-type {\n",
       "        vertical-align: middle;\n",
       "    }\n",
       "\n",
       "    .dataframe tbody tr th {\n",
       "        vertical-align: top;\n",
       "    }\n",
       "\n",
       "    .dataframe thead th {\n",
       "        text-align: right;\n",
       "    }\n",
       "</style>\n",
       "<table border=\"1\" class=\"dataframe\">\n",
       "  <thead>\n",
       "    <tr style=\"text-align: right;\">\n",
       "      <th></th>\n",
       "      <th>ds</th>\n",
       "      <th>trend</th>\n",
       "      <th>yhat_lower</th>\n",
       "      <th>yhat_upper</th>\n",
       "      <th>trend_lower</th>\n",
       "      <th>trend_upper</th>\n",
       "      <th>multiplicative_terms</th>\n",
       "      <th>multiplicative_terms_lower</th>\n",
       "      <th>multiplicative_terms_upper</th>\n",
       "      <th>yearly</th>\n",
       "      <th>yearly_lower</th>\n",
       "      <th>yearly_upper</th>\n",
       "      <th>additive_terms</th>\n",
       "      <th>additive_terms_lower</th>\n",
       "      <th>additive_terms_upper</th>\n",
       "      <th>yhat</th>\n",
       "    </tr>\n",
       "  </thead>\n",
       "  <tbody>\n",
       "    <tr>\n",
       "      <th>0</th>\n",
       "      <td>1986-01-01</td>\n",
       "      <td>17.244373</td>\n",
       "      <td>-3.326188</td>\n",
       "      <td>35.542766</td>\n",
       "      <td>17.244373</td>\n",
       "      <td>17.244373</td>\n",
       "      <td>-0.042033</td>\n",
       "      <td>-0.042033</td>\n",
       "      <td>-0.042033</td>\n",
       "      <td>-0.042033</td>\n",
       "      <td>-0.042033</td>\n",
       "      <td>-0.042033</td>\n",
       "      <td>0.0</td>\n",
       "      <td>0.0</td>\n",
       "      <td>0.0</td>\n",
       "      <td>16.519543</td>\n",
       "    </tr>\n",
       "    <tr>\n",
       "      <th>1</th>\n",
       "      <td>1986-02-01</td>\n",
       "      <td>17.268696</td>\n",
       "      <td>-3.051905</td>\n",
       "      <td>36.812467</td>\n",
       "      <td>17.268696</td>\n",
       "      <td>17.268696</td>\n",
       "      <td>-0.041018</td>\n",
       "      <td>-0.041018</td>\n",
       "      <td>-0.041018</td>\n",
       "      <td>-0.041018</td>\n",
       "      <td>-0.041018</td>\n",
       "      <td>-0.041018</td>\n",
       "      <td>0.0</td>\n",
       "      <td>0.0</td>\n",
       "      <td>0.0</td>\n",
       "      <td>16.560362</td>\n",
       "    </tr>\n",
       "    <tr>\n",
       "      <th>2</th>\n",
       "      <td>1986-03-01</td>\n",
       "      <td>17.290665</td>\n",
       "      <td>-3.387887</td>\n",
       "      <td>36.022132</td>\n",
       "      <td>17.290665</td>\n",
       "      <td>17.290665</td>\n",
       "      <td>-0.005857</td>\n",
       "      <td>-0.005857</td>\n",
       "      <td>-0.005857</td>\n",
       "      <td>-0.005857</td>\n",
       "      <td>-0.005857</td>\n",
       "      <td>-0.005857</td>\n",
       "      <td>0.0</td>\n",
       "      <td>0.0</td>\n",
       "      <td>0.0</td>\n",
       "      <td>17.189394</td>\n",
       "    </tr>\n",
       "    <tr>\n",
       "      <th>3</th>\n",
       "      <td>1986-04-01</td>\n",
       "      <td>17.314988</td>\n",
       "      <td>-1.876617</td>\n",
       "      <td>35.905580</td>\n",
       "      <td>17.314988</td>\n",
       "      <td>17.314988</td>\n",
       "      <td>0.021072</td>\n",
       "      <td>0.021072</td>\n",
       "      <td>0.021072</td>\n",
       "      <td>0.021072</td>\n",
       "      <td>0.021072</td>\n",
       "      <td>0.021072</td>\n",
       "      <td>0.0</td>\n",
       "      <td>0.0</td>\n",
       "      <td>0.0</td>\n",
       "      <td>17.679843</td>\n",
       "    </tr>\n",
       "    <tr>\n",
       "      <th>4</th>\n",
       "      <td>1986-05-01</td>\n",
       "      <td>17.338526</td>\n",
       "      <td>-2.945517</td>\n",
       "      <td>34.867122</td>\n",
       "      <td>17.338526</td>\n",
       "      <td>17.338526</td>\n",
       "      <td>0.013573</td>\n",
       "      <td>0.013573</td>\n",
       "      <td>0.013573</td>\n",
       "      <td>0.013573</td>\n",
       "      <td>0.013573</td>\n",
       "      <td>0.013573</td>\n",
       "      <td>0.0</td>\n",
       "      <td>0.0</td>\n",
       "      <td>0.0</td>\n",
       "      <td>17.573859</td>\n",
       "    </tr>\n",
       "  </tbody>\n",
       "</table>\n",
       "</div>"
      ],
      "text/plain": [
       "          ds      trend  yhat_lower  yhat_upper  trend_lower  trend_upper  \\\n",
       "0 1986-01-01  17.244373   -3.326188   35.542766    17.244373    17.244373   \n",
       "1 1986-02-01  17.268696   -3.051905   36.812467    17.268696    17.268696   \n",
       "2 1986-03-01  17.290665   -3.387887   36.022132    17.290665    17.290665   \n",
       "3 1986-04-01  17.314988   -1.876617   35.905580    17.314988    17.314988   \n",
       "4 1986-05-01  17.338526   -2.945517   34.867122    17.338526    17.338526   \n",
       "\n",
       "   multiplicative_terms  multiplicative_terms_lower  \\\n",
       "0             -0.042033                   -0.042033   \n",
       "1             -0.041018                   -0.041018   \n",
       "2             -0.005857                   -0.005857   \n",
       "3              0.021072                    0.021072   \n",
       "4              0.013573                    0.013573   \n",
       "\n",
       "   multiplicative_terms_upper    yearly  yearly_lower  yearly_upper  \\\n",
       "0                   -0.042033 -0.042033     -0.042033     -0.042033   \n",
       "1                   -0.041018 -0.041018     -0.041018     -0.041018   \n",
       "2                   -0.005857 -0.005857     -0.005857     -0.005857   \n",
       "3                    0.021072  0.021072      0.021072      0.021072   \n",
       "4                    0.013573  0.013573      0.013573      0.013573   \n",
       "\n",
       "   additive_terms  additive_terms_lower  additive_terms_upper       yhat  \n",
       "0             0.0                   0.0                   0.0  16.519543  \n",
       "1             0.0                   0.0                   0.0  16.560362  \n",
       "2             0.0                   0.0                   0.0  17.189394  \n",
       "3             0.0                   0.0                   0.0  17.679843  \n",
       "4             0.0                   0.0                   0.0  17.573859  "
      ]
     },
     "execution_count": 150,
     "metadata": {},
     "output_type": "execute_result"
    }
   ],
   "source": [
    "future = m.make_future_dataframe(periods=43,freq='M')\n",
    "forecast = m.predict(future)\n",
    "forecast.head()"
   ]
  },
  {
   "cell_type": "code",
   "execution_count": 151,
   "metadata": {
    "colab": {
     "base_uri": "https://localhost:8080/",
     "height": 441
    },
    "executionInfo": {
     "elapsed": 709,
     "status": "ok",
     "timestamp": 1643075698667,
     "user": {
      "displayName": "Stephan",
      "photoUrl": "https://lh3.googleusercontent.com/a-/AOh14Gija7AV182I_HO-0SJcJLM-D7PauAtphl3tNNkAxA=s64",
      "userId": "17758018882495956194"
     },
     "user_tz": 300
    },
    "id": "RcOZ1wg3vRcT",
    "outputId": "2e4d1ac7-c75b-426d-f4d5-9114a9fc5cd5",
    "scrolled": true
   },
   "outputs": [
    {
     "data": {
      "image/png": "[encoded data removed]",
      "text/plain": [
       "<Figure size 720x432 with 1 Axes>"
      ]
     },
     "metadata": {},
     "output_type": "display_data"
    }
   ],
   "source": [
    "#initial visualization of model results\n",
    "model_visualization = model.plot(forecast)"
   ]
  },
  {
   "cell_type": "code",
   "execution_count": 152,
   "metadata": {
    "colab": {
     "base_uri": "https://localhost:8080/",
     "height": 657
    },
    "executionInfo": {
     "elapsed": 993,
     "status": "ok",
     "timestamp": 1643075721731,
     "user": {
      "displayName": "Stephan",
      "photoUrl": "https://lh3.googleusercontent.com/a-/AOh14Gija7AV182I_HO-0SJcJLM-D7PauAtphl3tNNkAxA=s64",
      "userId": "17758018882495956194"
     },
     "user_tz": 300
    },
    "id": "8torROriw5DV",
    "outputId": "75735d50-c8f1-4ad7-e1e3-e9cb7aff4509",
    "scrolled": true
   },
   "outputs": [
    {
     "data": {
      "image/png": "[encoded data removed]",
      "text/plain": [
       "<Figure size 648x432 with 2 Axes>"
      ]
     },
     "metadata": {},
     "output_type": "display_data"
    }
   ],
   "source": [
    "# plotting forecast components\n",
    "forecast_components = model.plot_components(forecast)"
   ]
  },
  {
   "cell_type": "code",
   "execution_count": 156,
   "metadata": {},
   "outputs": [
    {
     "name": "stderr",
     "output_type": "stream",
     "text": [
      "INFO:prophet:Making 46 forecasts with cutoffs between 1991-05-29 00:00:00 and 2013-08-01 00:00:00\n"
     ]
    },
    {
     "data": {
      "application/vnd.jupyter.widget-view+json": {
       "model_id": "ee7ee5f36cb44600820f076b086b1376",
       "version_major": 2,
       "version_minor": 0
      },
      "text/plain": [
       "  0%|          | 0/46 [00:00<?, ?it/s]"
      ]
     },
     "metadata": {},
     "output_type": "display_data"
    },
    {
     "data": {
      "text/html": [
       "<div>\n",
       "<style scoped>\n",
       "    .dataframe tbody tr th:only-of-type {\n",
       "        vertical-align: middle;\n",
       "    }\n",
       "\n",
       "    .dataframe tbody tr th {\n",
       "        vertical-align: top;\n",
       "    }\n",
       "\n",
       "    .dataframe thead th {\n",
       "        text-align: right;\n",
       "    }\n",
       "</style>\n",
       "<table border=\"1\" class=\"dataframe\">\n",
       "  <thead>\n",
       "    <tr style=\"text-align: right;\">\n",
       "      <th></th>\n",
       "      <th>horizon</th>\n",
       "      <th>mse</th>\n",
       "      <th>rmse</th>\n",
       "      <th>mae</th>\n",
       "      <th>mape</th>\n",
       "      <th>mdape</th>\n",
       "      <th>smape</th>\n",
       "      <th>coverage</th>\n",
       "    </tr>\n",
       "  </thead>\n",
       "  <tbody>\n",
       "    <tr>\n",
       "      <th>0</th>\n",
       "      <td>37 days</td>\n",
       "      <td>194.124404</td>\n",
       "      <td>13.932853</td>\n",
       "      <td>8.912530</td>\n",
       "      <td>0.195224</td>\n",
       "      <td>0.140781</td>\n",
       "      <td>0.184257</td>\n",
       "      <td>0.709091</td>\n",
       "    </tr>\n",
       "    <tr>\n",
       "      <th>1</th>\n",
       "      <td>38 days</td>\n",
       "      <td>183.474429</td>\n",
       "      <td>13.545273</td>\n",
       "      <td>8.498529</td>\n",
       "      <td>0.192509</td>\n",
       "      <td>0.140625</td>\n",
       "      <td>0.180941</td>\n",
       "      <td>0.727273</td>\n",
       "    </tr>\n",
       "    <tr>\n",
       "      <th>2</th>\n",
       "      <td>39 days</td>\n",
       "      <td>183.303187</td>\n",
       "      <td>13.538951</td>\n",
       "      <td>8.471709</td>\n",
       "      <td>0.191087</td>\n",
       "      <td>0.140228</td>\n",
       "      <td>0.179308</td>\n",
       "      <td>0.727273</td>\n",
       "    </tr>\n",
       "    <tr>\n",
       "      <th>3</th>\n",
       "      <td>40 days</td>\n",
       "      <td>187.064246</td>\n",
       "      <td>13.677143</td>\n",
       "      <td>8.747561</td>\n",
       "      <td>0.198180</td>\n",
       "      <td>0.140781</td>\n",
       "      <td>0.184938</td>\n",
       "      <td>0.727273</td>\n",
       "    </tr>\n",
       "    <tr>\n",
       "      <th>4</th>\n",
       "      <td>41 days</td>\n",
       "      <td>188.075568</td>\n",
       "      <td>13.714065</td>\n",
       "      <td>8.837116</td>\n",
       "      <td>0.201431</td>\n",
       "      <td>0.142300</td>\n",
       "      <td>0.188719</td>\n",
       "      <td>0.709091</td>\n",
       "    </tr>\n",
       "  </tbody>\n",
       "</table>\n",
       "</div>"
      ],
      "text/plain": [
       "  horizon         mse       rmse       mae      mape     mdape     smape  \\\n",
       "0 37 days  194.124404  13.932853  8.912530  0.195224  0.140781  0.184257   \n",
       "1 38 days  183.474429  13.545273  8.498529  0.192509  0.140625  0.180941   \n",
       "2 39 days  183.303187  13.538951  8.471709  0.191087  0.140228  0.179308   \n",
       "3 40 days  187.064246  13.677143  8.747561  0.198180  0.140781  0.184938   \n",
       "4 41 days  188.075568  13.714065  8.837116  0.201431  0.142300  0.188719   \n",
       "\n",
       "   coverage  \n",
       "0  0.709091  \n",
       "1  0.727273  \n",
       "2  0.727273  \n",
       "3  0.727273  \n",
       "4  0.709091  "
      ]
     },
     "execution_count": 156,
     "metadata": {},
     "output_type": "execute_result"
    }
   ],
   "source": [
    "#comparing initial projections to test data\n",
    "df_crossval = cross_validation(m, initial='1825 days', period='180 days', horizon = '365 days')\n",
    "df_crossval.head()\n",
    "\n",
    "df_mtrcs = performance_metrics(df_crossval)\n",
    "df_mtrcs.head()"
   ]
  },
  {
   "cell_type": "code",
   "execution_count": 116,
   "metadata": {
    "executionInfo": {
     "elapsed": 136,
     "status": "ok",
     "timestamp": 1643075744736,
     "user": {
      "displayName": "Stephan",
      "photoUrl": "https://lh3.googleusercontent.com/a-/AOh14Gija7AV182I_HO-0SJcJLM-D7PauAtphl3tNNkAxA=s64",
      "userId": "17758018882495956194"
     },
     "user_tz": 300
    },
    "id": "styZZizJ0dzC"
   },
   "outputs": [],
   "source": []
  }
 ],
 "metadata": {
  "colab": {
   "authorship_tag": "ABX9TyOQsOJgPECnCl9YWzIHb0bm",
   "collapsed_sections": [],
   "mount_file_id": "1-W57Vz3xRcdz2UfwUdZgicB-hqvyZ-s4",
   "name": "WTICrude_Forecast1_Prophet.ipynb",
   "provenance": []
  },
  "kernelspec": {
   "display_name": "Python 3 (ipykernel)",
   "language": "python",
   "name": "python3"
  },
  "language_info": {
   "codemirror_mode": {
    "name": "ipython",
    "version": 3
   },
   "file_extension": ".py",
   "mimetype": "text/x-python",
   "name": "python",
   "nbconvert_exporter": "python",
   "pygments_lexer": "ipython3",
   "version": "3.7.11"
  }
 },
 "nbformat": 4,
 "nbformat_minor": 1
}
