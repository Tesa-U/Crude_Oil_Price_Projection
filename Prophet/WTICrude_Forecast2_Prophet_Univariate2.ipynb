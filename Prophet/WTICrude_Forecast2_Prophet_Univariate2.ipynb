{
 "cells": [
  {
   "cell_type": "code",
   "execution_count": 1,
   "metadata": {
    "executionInfo": {
     "elapsed": 163,
     "status": "ok",
     "timestamp": 1643075557153,
     "user": {
      "displayName": "Stephan",
      "photoUrl": "https://lh3.googleusercontent.com/a-/AOh14Gija7AV182I_HO-0SJcJLM-D7PauAtphl3tNNkAxA=s64",
      "userId": "17758018882495956194"
     },
     "user_tz": 300
    },
    "id": "5AhGr3bi2GFC"
   },
   "outputs": [
    {
     "name": "stderr",
     "output_type": "stream",
     "text": [
      "Importing plotly failed. Interactive plots will not work.\n"
     ]
    }
   ],
   "source": [
    "# importing dependencies\n",
    "import pandas as pd\n",
    "from prophet import Prophet\n",
    "import matplotlib.pyplot as plt\n",
    "import seaborn as sms\n",
    "import numpy as np\n",
    "import datetime as dt\n",
    "from prophet.diagnostics import cross_validation\n",
    "from prophet.diagnostics import performance_metrics\n",
    "from prophet.plot import plot_cross_validation_metric\n",
    "from sklearn.preprocessing import MinMaxScaler, StandardScaler"
   ]
  },
  {
   "cell_type": "code",
   "execution_count": 9,
   "metadata": {
    "colab": {
     "base_uri": "https://localhost:8080/",
     "height": 285
    },
    "executionInfo": {
     "elapsed": 157,
     "status": "ok",
     "timestamp": 1643075559555,
     "user": {
      "displayName": "Stephan",
      "photoUrl": "https://lh3.googleusercontent.com/a-/AOh14Gija7AV182I_HO-0SJcJLM-D7PauAtphl3tNNkAxA=s64",
      "userId": "17758018882495956194"
     },
     "user_tz": 300
    },
    "id": "GR7VIAC63dZg",
    "outputId": "d0f75090-7ad0-4890-fbf8-aaa4c31ca31a",
    "scrolled": true
   },
   "outputs": [
    {
     "data": {
      "text/html": [
       "<div>\n",
       "<style scoped>\n",
       "    .dataframe tbody tr th:only-of-type {\n",
       "        vertical-align: middle;\n",
       "    }\n",
       "\n",
       "    .dataframe tbody tr th {\n",
       "        vertical-align: top;\n",
       "    }\n",
       "\n",
       "    .dataframe thead th {\n",
       "        text-align: right;\n",
       "    }\n",
       "</style>\n",
       "<table border=\"1\" class=\"dataframe\">\n",
       "  <thead>\n",
       "    <tr style=\"text-align: right;\">\n",
       "      <th></th>\n",
       "      <th>Date</th>\n",
       "      <th>Cushing, OK Crude Oil Future Contract ($/Bar.)</th>\n",
       "      <th>U.S. Field Production of Crude Oil (1k Bar.)</th>\n",
       "      <th>Product Supplied of Crude Oil and Petroleum Products (1k Bar.)</th>\n",
       "      <th>Gross Inputs to Refineries (1k Bar./Day)</th>\n",
       "      <th>Operable Crude Oil Distillation Capacity (1k Bar./Calendar Day)</th>\n",
       "      <th>Operating Crude Oil Distillation Capacity (1k Bar./Day)</th>\n",
       "      <th>Idle Crude Oil Distillation Capacity (1k Bar./Day)</th>\n",
       "      <th>Percent Utilization of Refinery Operable Capacity</th>\n",
       "      <th>Cushing, OK WTI Spot Price FOB ($/Bar.)</th>\n",
       "    </tr>\n",
       "  </thead>\n",
       "  <tbody>\n",
       "    <tr>\n",
       "      <th>0</th>\n",
       "      <td>1/1/1986</td>\n",
       "      <td>23.0</td>\n",
       "      <td>283248</td>\n",
       "      <td>498728</td>\n",
       "      <td>12583</td>\n",
       "      <td>15459</td>\n",
       "      <td>14639</td>\n",
       "      <td>820</td>\n",
       "      <td>81.4</td>\n",
       "      <td>22.9</td>\n",
       "    </tr>\n",
       "    <tr>\n",
       "      <th>1</th>\n",
       "      <td>2/1/1986</td>\n",
       "      <td>15.5</td>\n",
       "      <td>256855</td>\n",
       "      <td>453209</td>\n",
       "      <td>12068</td>\n",
       "      <td>15485</td>\n",
       "      <td>14538</td>\n",
       "      <td>947</td>\n",
       "      <td>77.9</td>\n",
       "      <td>15.5</td>\n",
       "    </tr>\n",
       "    <tr>\n",
       "      <th>2</th>\n",
       "      <td>3/1/1986</td>\n",
       "      <td>12.6</td>\n",
       "      <td>279413</td>\n",
       "      <td>504565</td>\n",
       "      <td>11759</td>\n",
       "      <td>15485</td>\n",
       "      <td>14517</td>\n",
       "      <td>968</td>\n",
       "      <td>75.9</td>\n",
       "      <td>12.6</td>\n",
       "    </tr>\n",
       "    <tr>\n",
       "      <th>3</th>\n",
       "      <td>4/1/1986</td>\n",
       "      <td>12.8</td>\n",
       "      <td>265917</td>\n",
       "      <td>478339</td>\n",
       "      <td>12603</td>\n",
       "      <td>15473</td>\n",
       "      <td>14550</td>\n",
       "      <td>923</td>\n",
       "      <td>81.5</td>\n",
       "      <td>12.8</td>\n",
       "    </tr>\n",
       "    <tr>\n",
       "      <th>4</th>\n",
       "      <td>5/1/1986</td>\n",
       "      <td>15.3</td>\n",
       "      <td>273964</td>\n",
       "      <td>495789</td>\n",
       "      <td>13314</td>\n",
       "      <td>15484</td>\n",
       "      <td>14805</td>\n",
       "      <td>679</td>\n",
       "      <td>86.0</td>\n",
       "      <td>15.4</td>\n",
       "    </tr>\n",
       "    <tr>\n",
       "      <th>...</th>\n",
       "      <td>...</td>\n",
       "      <td>...</td>\n",
       "      <td>...</td>\n",
       "      <td>...</td>\n",
       "      <td>...</td>\n",
       "      <td>...</td>\n",
       "      <td>...</td>\n",
       "      <td>...</td>\n",
       "      <td>...</td>\n",
       "      <td>...</td>\n",
       "    </tr>\n",
       "    <tr>\n",
       "      <th>425</th>\n",
       "      <td>6/1/2021</td>\n",
       "      <td>71.4</td>\n",
       "      <td>338645</td>\n",
       "      <td>616115</td>\n",
       "      <td>16743</td>\n",
       "      <td>18128</td>\n",
       "      <td>17910</td>\n",
       "      <td>218</td>\n",
       "      <td>92.4</td>\n",
       "      <td>71.4</td>\n",
       "    </tr>\n",
       "    <tr>\n",
       "      <th>426</th>\n",
       "      <td>7/1/2021</td>\n",
       "      <td>72.4</td>\n",
       "      <td>351228</td>\n",
       "      <td>616714</td>\n",
       "      <td>16482</td>\n",
       "      <td>18129</td>\n",
       "      <td>17943</td>\n",
       "      <td>187</td>\n",
       "      <td>90.9</td>\n",
       "      <td>72.5</td>\n",
       "    </tr>\n",
       "    <tr>\n",
       "      <th>427</th>\n",
       "      <td>8/1/2021</td>\n",
       "      <td>67.7</td>\n",
       "      <td>347393</td>\n",
       "      <td>635828</td>\n",
       "      <td>16377</td>\n",
       "      <td>18130</td>\n",
       "      <td>17914</td>\n",
       "      <td>216</td>\n",
       "      <td>90.3</td>\n",
       "      <td>67.7</td>\n",
       "    </tr>\n",
       "    <tr>\n",
       "      <th>428</th>\n",
       "      <td>9/1/2021</td>\n",
       "      <td>71.5</td>\n",
       "      <td>324654</td>\n",
       "      <td>606706</td>\n",
       "      <td>15797</td>\n",
       "      <td>18130</td>\n",
       "      <td>15800</td>\n",
       "      <td>2331</td>\n",
       "      <td>87.1</td>\n",
       "      <td>71.6</td>\n",
       "    </tr>\n",
       "    <tr>\n",
       "      <th>429</th>\n",
       "      <td>10/1/2021</td>\n",
       "      <td>81.2</td>\n",
       "      <td>355670</td>\n",
       "      <td>616639</td>\n",
       "      <td>15581</td>\n",
       "      <td>18132</td>\n",
       "      <td>17133</td>\n",
       "      <td>999</td>\n",
       "      <td>85.9</td>\n",
       "      <td>81.5</td>\n",
       "    </tr>\n",
       "  </tbody>\n",
       "</table>\n",
       "<p>430 rows × 10 columns</p>\n",
       "</div>"
      ],
      "text/plain": [
       "          Date  Cushing, OK Crude Oil Future Contract ($/Bar.)  \\\n",
       "0     1/1/1986                                            23.0   \n",
       "1     2/1/1986                                            15.5   \n",
       "2     3/1/1986                                            12.6   \n",
       "3     4/1/1986                                            12.8   \n",
       "4     5/1/1986                                            15.3   \n",
       "..         ...                                             ...   \n",
       "425   6/1/2021                                            71.4   \n",
       "426   7/1/2021                                            72.4   \n",
       "427   8/1/2021                                            67.7   \n",
       "428   9/1/2021                                            71.5   \n",
       "429  10/1/2021                                            81.2   \n",
       "\n",
       "     U.S. Field Production of Crude Oil (1k Bar.)  \\\n",
       "0                                          283248   \n",
       "1                                          256855   \n",
       "2                                          279413   \n",
       "3                                          265917   \n",
       "4                                          273964   \n",
       "..                                            ...   \n",
       "425                                        338645   \n",
       "426                                        351228   \n",
       "427                                        347393   \n",
       "428                                        324654   \n",
       "429                                        355670   \n",
       "\n",
       "     Product Supplied of Crude Oil and Petroleum Products (1k Bar.)  \\\n",
       "0                                               498728                \n",
       "1                                               453209                \n",
       "2                                               504565                \n",
       "3                                               478339                \n",
       "4                                               495789                \n",
       "..                                                 ...                \n",
       "425                                             616115                \n",
       "426                                             616714                \n",
       "427                                             635828                \n",
       "428                                             606706                \n",
       "429                                             616639                \n",
       "\n",
       "     Gross Inputs to Refineries (1k Bar./Day)  \\\n",
       "0                                       12583   \n",
       "1                                       12068   \n",
       "2                                       11759   \n",
       "3                                       12603   \n",
       "4                                       13314   \n",
       "..                                        ...   \n",
       "425                                     16743   \n",
       "426                                     16482   \n",
       "427                                     16377   \n",
       "428                                     15797   \n",
       "429                                     15581   \n",
       "\n",
       "     Operable Crude Oil Distillation Capacity (1k Bar./Calendar Day)  \\\n",
       "0                                                15459                 \n",
       "1                                                15485                 \n",
       "2                                                15485                 \n",
       "3                                                15473                 \n",
       "4                                                15484                 \n",
       "..                                                 ...                 \n",
       "425                                              18128                 \n",
       "426                                              18129                 \n",
       "427                                              18130                 \n",
       "428                                              18130                 \n",
       "429                                              18132                 \n",
       "\n",
       "     Operating Crude Oil Distillation Capacity (1k Bar./Day)  \\\n",
       "0                                                14639         \n",
       "1                                                14538         \n",
       "2                                                14517         \n",
       "3                                                14550         \n",
       "4                                                14805         \n",
       "..                                                 ...         \n",
       "425                                              17910         \n",
       "426                                              17943         \n",
       "427                                              17914         \n",
       "428                                              15800         \n",
       "429                                              17133         \n",
       "\n",
       "     Idle Crude Oil Distillation Capacity (1k Bar./Day)  \\\n",
       "0                                                  820    \n",
       "1                                                  947    \n",
       "2                                                  968    \n",
       "3                                                  923    \n",
       "4                                                  679    \n",
       "..                                                 ...    \n",
       "425                                                218    \n",
       "426                                                187    \n",
       "427                                                216    \n",
       "428                                               2331    \n",
       "429                                                999    \n",
       "\n",
       "     Percent Utilization of Refinery Operable Capacity  \\\n",
       "0                                                 81.4   \n",
       "1                                                 77.9   \n",
       "2                                                 75.9   \n",
       "3                                                 81.5   \n",
       "4                                                 86.0   \n",
       "..                                                 ...   \n",
       "425                                               92.4   \n",
       "426                                               90.9   \n",
       "427                                               90.3   \n",
       "428                                               87.1   \n",
       "429                                               85.9   \n",
       "\n",
       "     Cushing, OK WTI Spot Price FOB ($/Bar.)  \n",
       "0                                       22.9  \n",
       "1                                       15.5  \n",
       "2                                       12.6  \n",
       "3                                       12.8  \n",
       "4                                       15.4  \n",
       "..                                       ...  \n",
       "425                                     71.4  \n",
       "426                                     72.5  \n",
       "427                                     67.7  \n",
       "428                                     71.6  \n",
       "429                                     81.5  \n",
       "\n",
       "[430 rows x 10 columns]"
      ]
     },
     "execution_count": 9,
     "metadata": {},
     "output_type": "execute_result"
    }
   ],
   "source": [
    "# read in CSV training data\n",
    "df = pd.read_csv('C:/Users/sweir/OneDrive/Desktop/Analysis Projects/Crude_Oil_Price_Projection/ML Resources/Cleaned_Crude_Oil_Dataset.csv')\n",
    "df"
   ]
  },
  {
   "cell_type": "code",
   "execution_count": 10,
   "metadata": {
    "colab": {
     "base_uri": "https://localhost:8080/"
    },
    "executionInfo": {
     "elapsed": 148,
     "status": "ok",
     "timestamp": 1643075563548,
     "user": {
      "displayName": "Stephan",
      "photoUrl": "https://lh3.googleusercontent.com/a-/AOh14Gija7AV182I_HO-0SJcJLM-D7PauAtphl3tNNkAxA=s64",
      "userId": "17758018882495956194"
     },
     "user_tz": 300
    },
    "id": "x08Q3v6vHVYC",
    "outputId": "1978e29b-fa5d-4085-aa2e-2e930a1d73e7",
    "scrolled": true
   },
   "outputs": [
    {
     "data": {
      "text/plain": [
       "Date                                                                object\n",
       "Cushing, OK Crude Oil Future Contract ($/Bar.)                     float64\n",
       "U.S. Field Production of Crude Oil (1k Bar.)                         int64\n",
       "Product Supplied of Crude Oil and Petroleum Products (1k Bar.)       int64\n",
       "Gross Inputs to Refineries (1k Bar./Day)                             int64\n",
       "Operable Crude Oil Distillation Capacity (1k Bar./Calendar Day)      int64\n",
       "Operating Crude Oil Distillation Capacity (1k Bar./Day)              int64\n",
       "Idle Crude Oil Distillation Capacity (1k Bar./Day)                   int64\n",
       "Percent Utilization of Refinery Operable Capacity                  float64\n",
       "Cushing, OK WTI Spot Price FOB ($/Bar.)                            float64\n",
       "dtype: object"
      ]
     },
     "execution_count": 10,
     "metadata": {},
     "output_type": "execute_result"
    }
   ],
   "source": [
    "# viewing datatypes\n",
    "df.dtypes"
   ]
  },
  {
   "cell_type": "code",
   "execution_count": 11,
   "metadata": {
    "executionInfo": {
     "elapsed": 152,
     "status": "ok",
     "timestamp": 1643075565615,
     "user": {
      "displayName": "Stephan",
      "photoUrl": "https://lh3.googleusercontent.com/a-/AOh14Gija7AV182I_HO-0SJcJLM-D7PauAtphl3tNNkAxA=s64",
      "userId": "17758018882495956194"
     },
     "user_tz": 300
    },
    "id": "czXgKB1mIlXT"
   },
   "outputs": [],
   "source": [
    "# to convert the date column to type DATETIME\n",
    "df['Date'] = pd.to_datetime(df['Date'])"
   ]
  },
  {
   "cell_type": "code",
   "execution_count": 12,
   "metadata": {
    "colab": {
     "base_uri": "https://localhost:8080/"
    },
    "executionInfo": {
     "elapsed": 190,
     "status": "ok",
     "timestamp": 1643075567703,
     "user": {
      "displayName": "Stephan",
      "photoUrl": "https://lh3.googleusercontent.com/a-/AOh14Gija7AV182I_HO-0SJcJLM-D7PauAtphl3tNNkAxA=s64",
      "userId": "17758018882495956194"
     },
     "user_tz": 300
    },
    "id": "FXL-u621RMcw",
    "outputId": "fee050d6-601a-41b6-d1dd-651a8a82d10b"
   },
   "outputs": [
    {
     "data": {
      "text/plain": [
       "430"
      ]
     },
     "execution_count": 12,
     "metadata": {},
     "output_type": "execute_result"
    }
   ],
   "source": [
    "# retrieving number of observations\n",
    "len(df)"
   ]
  },
  {
   "cell_type": "code",
   "execution_count": 13,
   "metadata": {
    "executionInfo": {
     "elapsed": 156,
     "status": "ok",
     "timestamp": 1643075570055,
     "user": {
      "displayName": "Stephan",
      "photoUrl": "https://lh3.googleusercontent.com/a-/AOh14Gija7AV182I_HO-0SJcJLM-D7PauAtphl3tNNkAxA=s64",
      "userId": "17758018882495956194"
     },
     "user_tz": 300
    },
    "id": "D_QgbzQqbDtR",
    "scrolled": true
   },
   "outputs": [],
   "source": [
    "# renaming columns to fit naming conventions of prophet\n",
    "df.rename(columns={'Date': 'ds', 'Cushing, OK Crude Oil Future Contract ($/Bar.)': 'y'}, inplace=True)\n"
   ]
  },
  {
   "cell_type": "code",
   "execution_count": 14,
   "metadata": {},
   "outputs": [],
   "source": [
    "# dropping all other columns\n",
    "df.drop(['U.S. Field Production of Crude Oil (1k Bar.)', 'Product Supplied of Crude Oil and Petroleum Products (1k Bar.)', 'Gross Inputs to Refineries (1k Bar./Day)', 'Operable Crude Oil Distillation Capacity (1k Bar./Calendar Day)', 'Operating Crude Oil Distillation Capacity (1k Bar./Day)', 'Idle Crude Oil Distillation Capacity (1k Bar./Day)', 'Percent Utilization of Refinery Operable Capacity', 'Cushing, OK WTI Spot Price FOB ($/Bar.)'], axis=1, inplace=True)"
   ]
  },
  {
   "cell_type": "code",
   "execution_count": 15,
   "metadata": {},
   "outputs": [
    {
     "data": {
      "text/html": [
       "<div>\n",
       "<style scoped>\n",
       "    .dataframe tbody tr th:only-of-type {\n",
       "        vertical-align: middle;\n",
       "    }\n",
       "\n",
       "    .dataframe tbody tr th {\n",
       "        vertical-align: top;\n",
       "    }\n",
       "\n",
       "    .dataframe thead th {\n",
       "        text-align: right;\n",
       "    }\n",
       "</style>\n",
       "<table border=\"1\" class=\"dataframe\">\n",
       "  <thead>\n",
       "    <tr style=\"text-align: right;\">\n",
       "      <th></th>\n",
       "      <th>y</th>\n",
       "      <th>ds</th>\n",
       "    </tr>\n",
       "  </thead>\n",
       "  <tbody>\n",
       "    <tr>\n",
       "      <th>0</th>\n",
       "      <td>23.0</td>\n",
       "      <td>1986-01-01</td>\n",
       "    </tr>\n",
       "    <tr>\n",
       "      <th>1</th>\n",
       "      <td>15.5</td>\n",
       "      <td>1986-02-01</td>\n",
       "    </tr>\n",
       "    <tr>\n",
       "      <th>2</th>\n",
       "      <td>12.6</td>\n",
       "      <td>1986-03-01</td>\n",
       "    </tr>\n",
       "    <tr>\n",
       "      <th>3</th>\n",
       "      <td>12.8</td>\n",
       "      <td>1986-04-01</td>\n",
       "    </tr>\n",
       "    <tr>\n",
       "      <th>4</th>\n",
       "      <td>15.3</td>\n",
       "      <td>1986-05-01</td>\n",
       "    </tr>\n",
       "  </tbody>\n",
       "</table>\n",
       "</div>"
      ],
      "text/plain": [
       "      y         ds\n",
       "0  23.0 1986-01-01\n",
       "1  15.5 1986-02-01\n",
       "2  12.6 1986-03-01\n",
       "3  12.8 1986-04-01\n",
       "4  15.3 1986-05-01"
      ]
     },
     "execution_count": 15,
     "metadata": {},
     "output_type": "execute_result"
    }
   ],
   "source": [
    "# reordering columns to fit prophet requirements\n",
    "df1 = df[['y', 'ds']]\n",
    "df1.head()"
   ]
  },
  {
   "cell_type": "code",
   "execution_count": 16,
   "metadata": {
    "colab": {
     "base_uri": "https://localhost:8080/"
    },
    "executionInfo": {
     "elapsed": 324,
     "status": "ok",
     "timestamp": 1643075630022,
     "user": {
      "displayName": "Stephan",
      "photoUrl": "https://lh3.googleusercontent.com/a-/AOh14Gija7AV182I_HO-0SJcJLM-D7PauAtphl3tNNkAxA=s64",
      "userId": "17758018882495956194"
     },
     "user_tz": 300
    },
    "id": "eHkOhLw5gufu",
    "outputId": "99e073b3-848f-47a8-8f06-35e2a12515d0"
   },
   "outputs": [
    {
     "name": "stderr",
     "output_type": "stream",
     "text": [
      "INFO:prophet:Disabling weekly seasonality. Run prophet with weekly_seasonality=True to override this.\n",
      "INFO:prophet:Disabling daily seasonality. Run prophet with daily_seasonality=True to override this.\n"
     ]
    }
   ],
   "source": [
    "# building/fitting the model \n",
    "m = Prophet(interval_width=0.95, seasonality_mode='multiplicative')\n",
    "model = m.fit(df1)"
   ]
  },
  {
   "cell_type": "code",
   "execution_count": 17,
   "metadata": {
    "executionInfo": {
     "elapsed": 147,
     "status": "ok",
     "timestamp": 1643075633584,
     "user": {
      "displayName": "Stephan",
      "photoUrl": "https://lh3.googleusercontent.com/a-/AOh14Gija7AV182I_HO-0SJcJLM-D7PauAtphl3tNNkAxA=s64",
      "userId": "17758018882495956194"
     },
     "user_tz": 300
    },
    "id": "WruDFSV_6u39"
   },
   "outputs": [
    {
     "data": {
      "text/html": [
       "<div>\n",
       "<style scoped>\n",
       "    .dataframe tbody tr th:only-of-type {\n",
       "        vertical-align: middle;\n",
       "    }\n",
       "\n",
       "    .dataframe tbody tr th {\n",
       "        vertical-align: top;\n",
       "    }\n",
       "\n",
       "    .dataframe thead th {\n",
       "        text-align: right;\n",
       "    }\n",
       "</style>\n",
       "<table border=\"1\" class=\"dataframe\">\n",
       "  <thead>\n",
       "    <tr style=\"text-align: right;\">\n",
       "      <th></th>\n",
       "      <th>ds</th>\n",
       "      <th>trend</th>\n",
       "      <th>yhat_lower</th>\n",
       "      <th>yhat_upper</th>\n",
       "      <th>trend_lower</th>\n",
       "      <th>trend_upper</th>\n",
       "      <th>multiplicative_terms</th>\n",
       "      <th>multiplicative_terms_lower</th>\n",
       "      <th>multiplicative_terms_upper</th>\n",
       "      <th>yearly</th>\n",
       "      <th>yearly_lower</th>\n",
       "      <th>yearly_upper</th>\n",
       "      <th>additive_terms</th>\n",
       "      <th>additive_terms_lower</th>\n",
       "      <th>additive_terms_upper</th>\n",
       "      <th>yhat</th>\n",
       "    </tr>\n",
       "  </thead>\n",
       "  <tbody>\n",
       "    <tr>\n",
       "      <th>0</th>\n",
       "      <td>1986-01-01</td>\n",
       "      <td>15.793307</td>\n",
       "      <td>-9.935791</td>\n",
       "      <td>40.403117</td>\n",
       "      <td>15.793307</td>\n",
       "      <td>15.793307</td>\n",
       "      <td>-0.032549</td>\n",
       "      <td>-0.032549</td>\n",
       "      <td>-0.032549</td>\n",
       "      <td>-0.032549</td>\n",
       "      <td>-0.032549</td>\n",
       "      <td>-0.032549</td>\n",
       "      <td>0.0</td>\n",
       "      <td>0.0</td>\n",
       "      <td>0.0</td>\n",
       "      <td>15.279248</td>\n",
       "    </tr>\n",
       "    <tr>\n",
       "      <th>1</th>\n",
       "      <td>1986-02-01</td>\n",
       "      <td>15.829590</td>\n",
       "      <td>-11.483077</td>\n",
       "      <td>39.099931</td>\n",
       "      <td>15.829590</td>\n",
       "      <td>15.829590</td>\n",
       "      <td>-0.017630</td>\n",
       "      <td>-0.017630</td>\n",
       "      <td>-0.017630</td>\n",
       "      <td>-0.017630</td>\n",
       "      <td>-0.017630</td>\n",
       "      <td>-0.017630</td>\n",
       "      <td>0.0</td>\n",
       "      <td>0.0</td>\n",
       "      <td>0.0</td>\n",
       "      <td>15.550511</td>\n",
       "    </tr>\n",
       "    <tr>\n",
       "      <th>2</th>\n",
       "      <td>1986-03-01</td>\n",
       "      <td>15.862361</td>\n",
       "      <td>-10.739301</td>\n",
       "      <td>40.067319</td>\n",
       "      <td>15.862361</td>\n",
       "      <td>15.862361</td>\n",
       "      <td>0.007148</td>\n",
       "      <td>0.007148</td>\n",
       "      <td>0.007148</td>\n",
       "      <td>0.007148</td>\n",
       "      <td>0.007148</td>\n",
       "      <td>0.007148</td>\n",
       "      <td>0.0</td>\n",
       "      <td>0.0</td>\n",
       "      <td>0.0</td>\n",
       "      <td>15.975750</td>\n",
       "    </tr>\n",
       "    <tr>\n",
       "      <th>3</th>\n",
       "      <td>1986-04-01</td>\n",
       "      <td>15.898644</td>\n",
       "      <td>-9.046343</td>\n",
       "      <td>41.906944</td>\n",
       "      <td>15.898644</td>\n",
       "      <td>15.898644</td>\n",
       "      <td>0.034717</td>\n",
       "      <td>0.034717</td>\n",
       "      <td>0.034717</td>\n",
       "      <td>0.034717</td>\n",
       "      <td>0.034717</td>\n",
       "      <td>0.034717</td>\n",
       "      <td>0.0</td>\n",
       "      <td>0.0</td>\n",
       "      <td>0.0</td>\n",
       "      <td>16.450595</td>\n",
       "    </tr>\n",
       "    <tr>\n",
       "      <th>4</th>\n",
       "      <td>1986-05-01</td>\n",
       "      <td>15.933757</td>\n",
       "      <td>-7.891171</td>\n",
       "      <td>40.772657</td>\n",
       "      <td>15.933757</td>\n",
       "      <td>15.933757</td>\n",
       "      <td>0.045584</td>\n",
       "      <td>0.045584</td>\n",
       "      <td>0.045584</td>\n",
       "      <td>0.045584</td>\n",
       "      <td>0.045584</td>\n",
       "      <td>0.045584</td>\n",
       "      <td>0.0</td>\n",
       "      <td>0.0</td>\n",
       "      <td>0.0</td>\n",
       "      <td>16.660086</td>\n",
       "    </tr>\n",
       "  </tbody>\n",
       "</table>\n",
       "</div>"
      ],
      "text/plain": [
       "          ds      trend  yhat_lower  yhat_upper  trend_lower  trend_upper  \\\n",
       "0 1986-01-01  15.793307   -9.935791   40.403117    15.793307    15.793307   \n",
       "1 1986-02-01  15.829590  -11.483077   39.099931    15.829590    15.829590   \n",
       "2 1986-03-01  15.862361  -10.739301   40.067319    15.862361    15.862361   \n",
       "3 1986-04-01  15.898644   -9.046343   41.906944    15.898644    15.898644   \n",
       "4 1986-05-01  15.933757   -7.891171   40.772657    15.933757    15.933757   \n",
       "\n",
       "   multiplicative_terms  multiplicative_terms_lower  \\\n",
       "0             -0.032549                   -0.032549   \n",
       "1             -0.017630                   -0.017630   \n",
       "2              0.007148                    0.007148   \n",
       "3              0.034717                    0.034717   \n",
       "4              0.045584                    0.045584   \n",
       "\n",
       "   multiplicative_terms_upper    yearly  yearly_lower  yearly_upper  \\\n",
       "0                   -0.032549 -0.032549     -0.032549     -0.032549   \n",
       "1                   -0.017630 -0.017630     -0.017630     -0.017630   \n",
       "2                    0.007148  0.007148      0.007148      0.007148   \n",
       "3                    0.034717  0.034717      0.034717      0.034717   \n",
       "4                    0.045584  0.045584      0.045584      0.045584   \n",
       "\n",
       "   additive_terms  additive_terms_lower  additive_terms_upper       yhat  \n",
       "0             0.0                   0.0                   0.0  15.279248  \n",
       "1             0.0                   0.0                   0.0  15.550511  \n",
       "2             0.0                   0.0                   0.0  15.975750  \n",
       "3             0.0                   0.0                   0.0  16.450595  \n",
       "4             0.0                   0.0                   0.0  16.660086  "
      ]
     },
     "execution_count": 17,
     "metadata": {},
     "output_type": "execute_result"
    }
   ],
   "source": [
    "future = m.make_future_dataframe(periods=12,freq='M')\n",
    "forecast = m.predict(future)\n",
    "forecast.head()"
   ]
  },
  {
   "cell_type": "code",
   "execution_count": 18,
   "metadata": {
    "colab": {
     "base_uri": "https://localhost:8080/",
     "height": 441
    },
    "executionInfo": {
     "elapsed": 709,
     "status": "ok",
     "timestamp": 1643075698667,
     "user": {
      "displayName": "Stephan",
      "photoUrl": "https://lh3.googleusercontent.com/a-/AOh14Gija7AV182I_HO-0SJcJLM-D7PauAtphl3tNNkAxA=s64",
      "userId": "17758018882495956194"
     },
     "user_tz": 300
    },
    "id": "RcOZ1wg3vRcT",
    "outputId": "2e4d1ac7-c75b-426d-f4d5-9114a9fc5cd5",
    "scrolled": true
   },
   "outputs": [
    {
     "data": {
      "image/png": "[encoded data removed]",
      "text/plain": [
       "<Figure size 720x432 with 1 Axes>"
      ]
     },
     "metadata": {},
     "output_type": "display_data"
    }
   ],
   "source": [
    "#initial visualization of model results\n",
    "model_visualization = model.plot(forecast)"
   ]
  },
  {
   "cell_type": "code",
   "execution_count": 19,
   "metadata": {
    "colab": {
     "base_uri": "https://localhost:8080/",
     "height": 657
    },
    "executionInfo": {
     "elapsed": 993,
     "status": "ok",
     "timestamp": 1643075721731,
     "user": {
      "displayName": "Stephan",
      "photoUrl": "https://lh3.googleusercontent.com/a-/AOh14Gija7AV182I_HO-0SJcJLM-D7PauAtphl3tNNkAxA=s64",
      "userId": "17758018882495956194"
     },
     "user_tz": 300
    },
    "id": "8torROriw5DV",
    "outputId": "75735d50-c8f1-4ad7-e1e3-e9cb7aff4509",
    "scrolled": true
   },
   "outputs": [
    {
     "data": {
      "image/png": "[encoded data removed]",
      "text/plain": [
       "<Figure size 648x432 with 2 Axes>"
      ]
     },
     "metadata": {},
     "output_type": "display_data"
    }
   ],
   "source": [
    "# plotting forecast components\n",
    "forecast_components = model.plot_components(forecast)"
   ]
  },
  {
   "cell_type": "code",
   "execution_count": 20,
   "metadata": {},
   "outputs": [
    {
     "name": "stderr",
     "output_type": "stream",
     "text": [
      "INFO:prophet:Making 61 forecasts with cutoffs between 1991-03-08 00:00:00 and 2020-10-01 00:00:00\n"
     ]
    },
    {
     "data": {
      "application/vnd.jupyter.widget-view+json": {
       "model_id": "5a3f229eabcf4cdeb7e8196192e5537a",
       "version_major": 2,
       "version_minor": 0
      },
      "text/plain": [
       "  0%|          | 0/61 [00:00<?, ?it/s]"
      ]
     },
     "metadata": {},
     "output_type": "display_data"
    },
    {
     "data": {
      "text/html": [
       "<div>\n",
       "<style scoped>\n",
       "    .dataframe tbody tr th:only-of-type {\n",
       "        vertical-align: middle;\n",
       "    }\n",
       "\n",
       "    .dataframe tbody tr th {\n",
       "        vertical-align: top;\n",
       "    }\n",
       "\n",
       "    .dataframe thead th {\n",
       "        text-align: right;\n",
       "    }\n",
       "</style>\n",
       "<table border=\"1\" class=\"dataframe\">\n",
       "  <thead>\n",
       "    <tr style=\"text-align: right;\">\n",
       "      <th></th>\n",
       "      <th>horizon</th>\n",
       "      <th>mse</th>\n",
       "      <th>rmse</th>\n",
       "      <th>mae</th>\n",
       "      <th>mape</th>\n",
       "      <th>mdape</th>\n",
       "      <th>smape</th>\n",
       "      <th>coverage</th>\n",
       "    </tr>\n",
       "  </thead>\n",
       "  <tbody>\n",
       "    <tr>\n",
       "      <th>0</th>\n",
       "      <td>38 days</td>\n",
       "      <td>364.203883</td>\n",
       "      <td>19.084126</td>\n",
       "      <td>12.220594</td>\n",
       "      <td>0.273173</td>\n",
       "      <td>0.199160</td>\n",
       "      <td>0.237219</td>\n",
       "      <td>0.684932</td>\n",
       "    </tr>\n",
       "    <tr>\n",
       "      <th>1</th>\n",
       "      <td>39 days</td>\n",
       "      <td>366.330524</td>\n",
       "      <td>19.139763</td>\n",
       "      <td>12.373284</td>\n",
       "      <td>0.273454</td>\n",
       "      <td>0.216919</td>\n",
       "      <td>0.238982</td>\n",
       "      <td>0.671233</td>\n",
       "    </tr>\n",
       "    <tr>\n",
       "      <th>2</th>\n",
       "      <td>40 days</td>\n",
       "      <td>352.822634</td>\n",
       "      <td>18.783574</td>\n",
       "      <td>12.247239</td>\n",
       "      <td>0.264404</td>\n",
       "      <td>0.216919</td>\n",
       "      <td>0.234512</td>\n",
       "      <td>0.675799</td>\n",
       "    </tr>\n",
       "    <tr>\n",
       "      <th>3</th>\n",
       "      <td>41 days</td>\n",
       "      <td>344.583990</td>\n",
       "      <td>18.562974</td>\n",
       "      <td>12.163870</td>\n",
       "      <td>0.264156</td>\n",
       "      <td>0.216919</td>\n",
       "      <td>0.237431</td>\n",
       "      <td>0.671233</td>\n",
       "    </tr>\n",
       "    <tr>\n",
       "      <th>4</th>\n",
       "      <td>42 days</td>\n",
       "      <td>342.484251</td>\n",
       "      <td>18.506330</td>\n",
       "      <td>12.112249</td>\n",
       "      <td>0.265711</td>\n",
       "      <td>0.216919</td>\n",
       "      <td>0.238557</td>\n",
       "      <td>0.684932</td>\n",
       "    </tr>\n",
       "  </tbody>\n",
       "</table>\n",
       "</div>"
      ],
      "text/plain": [
       "  horizon         mse       rmse        mae      mape     mdape     smape  \\\n",
       "0 38 days  364.203883  19.084126  12.220594  0.273173  0.199160  0.237219   \n",
       "1 39 days  366.330524  19.139763  12.373284  0.273454  0.216919  0.238982   \n",
       "2 40 days  352.822634  18.783574  12.247239  0.264404  0.216919  0.234512   \n",
       "3 41 days  344.583990  18.562974  12.163870  0.264156  0.216919  0.237431   \n",
       "4 42 days  342.484251  18.506330  12.112249  0.265711  0.216919  0.238557   \n",
       "\n",
       "   coverage  \n",
       "0  0.684932  \n",
       "1  0.671233  \n",
       "2  0.675799  \n",
       "3  0.671233  \n",
       "4  0.684932  "
      ]
     },
     "execution_count": 20,
     "metadata": {},
     "output_type": "execute_result"
    }
   ],
   "source": [
    "#comparing initial projections to test data\n",
    "df_crossval = cross_validation(m, initial='1825 days', period='180 days', horizon = '365 days')\n",
    "df_crossval.head()\n",
    "\n",
    "df_mtrcs = performance_metrics(df_crossval)\n",
    "df_mtrcs.head()"
   ]
  },
  {
   "cell_type": "code",
   "execution_count": 116,
   "metadata": {
    "executionInfo": {
     "elapsed": 136,
     "status": "ok",
     "timestamp": 1643075744736,
     "user": {
      "displayName": "Stephan",
      "photoUrl": "https://lh3.googleusercontent.com/a-/AOh14Gija7AV182I_HO-0SJcJLM-D7PauAtphl3tNNkAxA=s64",
      "userId": "17758018882495956194"
     },
     "user_tz": 300
    },
    "id": "styZZizJ0dzC"
   },
   "outputs": [],
   "source": []
  }
 ],
 "metadata": {
  "colab": {
   "authorship_tag": "ABX9TyOQsOJgPECnCl9YWzIHb0bm",
   "collapsed_sections": [],
   "mount_file_id": "1-W57Vz3xRcdz2UfwUdZgicB-hqvyZ-s4",
   "name": "WTICrude_Forecast1_Prophet.ipynb",
   "provenance": []
  },
  "kernelspec": {
   "display_name": "Python 3 (ipykernel)",
   "language": "python",
   "name": "python3"
  },
  "language_info": {
   "codemirror_mode": {
    "name": "ipython",
    "version": 3
   },
   "file_extension": ".py",
   "mimetype": "text/x-python",
   "name": "python",
   "nbconvert_exporter": "python",
   "pygments_lexer": "ipython3",
   "version": "3.7.11"
  }
 },
 "nbformat": 4,
 "nbformat_minor": 1
}
