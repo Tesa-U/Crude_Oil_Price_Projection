{
 "cells": [
  {
   "cell_type": "code",
   "execution_count": 1,
   "id": "5bed5beb",
   "metadata": {},
   "outputs": [],
   "source": [
    "# Import dependencies\n",
    "import pandas as pd\n",
    "import datetime as dt"
   ]
  },
  {
   "cell_type": "code",
   "execution_count": 2,
   "id": "66e233a6",
   "metadata": {},
   "outputs": [
    {
     "data": {
      "text/html": [
       "<div>\n",
       "<style scoped>\n",
       "    .dataframe tbody tr th:only-of-type {\n",
       "        vertical-align: middle;\n",
       "    }\n",
       "\n",
       "    .dataframe tbody tr th {\n",
       "        vertical-align: top;\n",
       "    }\n",
       "\n",
       "    .dataframe thead th {\n",
       "        text-align: right;\n",
       "    }\n",
       "</style>\n",
       "<table border=\"1\" class=\"dataframe\">\n",
       "  <thead>\n",
       "    <tr style=\"text-align: right;\">\n",
       "      <th></th>\n",
       "      <th>Date</th>\n",
       "      <th>Cushing, OK Crude Oil Future Contract 1 (Dollars per Barrel)</th>\n",
       "      <th>Cushing, OK Crude Oil Future Contract 2 (Dollars per Barrel)</th>\n",
       "      <th>Cushing, OK Crude Oil Future Contract 3 (Dollars per Barrel)</th>\n",
       "      <th>Cushing, OK Crude Oil Future Contract 4 (Dollars per Barrel)</th>\n",
       "      <th>Unnamed: 5</th>\n",
       "    </tr>\n",
       "  </thead>\n",
       "  <tbody>\n",
       "    <tr>\n",
       "      <th>0</th>\n",
       "      <td>Mar 30, 1983</td>\n",
       "      <td>NaN</td>\n",
       "      <td>NaN</td>\n",
       "      <td>29.35</td>\n",
       "      <td>NaN</td>\n",
       "      <td>NaN</td>\n",
       "    </tr>\n",
       "    <tr>\n",
       "      <th>1</th>\n",
       "      <td>Mar 31, 1983</td>\n",
       "      <td>NaN</td>\n",
       "      <td>NaN</td>\n",
       "      <td>29.24</td>\n",
       "      <td>NaN</td>\n",
       "      <td>NaN</td>\n",
       "    </tr>\n",
       "    <tr>\n",
       "      <th>2</th>\n",
       "      <td>Apr 04, 1983</td>\n",
       "      <td>29.44</td>\n",
       "      <td>NaN</td>\n",
       "      <td>29.10</td>\n",
       "      <td>NaN</td>\n",
       "      <td>NaN</td>\n",
       "    </tr>\n",
       "    <tr>\n",
       "      <th>3</th>\n",
       "      <td>Apr 05, 1983</td>\n",
       "      <td>29.71</td>\n",
       "      <td>NaN</td>\n",
       "      <td>29.35</td>\n",
       "      <td>NaN</td>\n",
       "      <td>NaN</td>\n",
       "    </tr>\n",
       "    <tr>\n",
       "      <th>4</th>\n",
       "      <td>Apr 06, 1983</td>\n",
       "      <td>29.92</td>\n",
       "      <td>NaN</td>\n",
       "      <td>29.50</td>\n",
       "      <td>NaN</td>\n",
       "      <td>NaN</td>\n",
       "    </tr>\n",
       "  </tbody>\n",
       "</table>\n",
       "</div>"
      ],
      "text/plain": [
       "           Date  Cushing, OK Crude Oil Future Contract 1 (Dollars per Barrel)  \\\n",
       "0  Mar 30, 1983                                                NaN              \n",
       "1  Mar 31, 1983                                                NaN              \n",
       "2  Apr 04, 1983                                              29.44              \n",
       "3  Apr 05, 1983                                              29.71              \n",
       "4  Apr 06, 1983                                              29.92              \n",
       "\n",
       "   Cushing, OK Crude Oil Future Contract 2 (Dollars per Barrel)  \\\n",
       "0                                                NaN              \n",
       "1                                                NaN              \n",
       "2                                                NaN              \n",
       "3                                                NaN              \n",
       "4                                                NaN              \n",
       "\n",
       "   Cushing, OK Crude Oil Future Contract 3 (Dollars per Barrel)  \\\n",
       "0                                              29.35              \n",
       "1                                              29.24              \n",
       "2                                              29.10              \n",
       "3                                              29.35              \n",
       "4                                              29.50              \n",
       "\n",
       "   Cushing, OK Crude Oil Future Contract 4 (Dollars per Barrel)  Unnamed: 5  \n",
       "0                                                NaN                    NaN  \n",
       "1                                                NaN                    NaN  \n",
       "2                                                NaN                    NaN  \n",
       "3                                                NaN                    NaN  \n",
       "4                                                NaN                    NaN  "
      ]
     },
     "execution_count": 2,
     "metadata": {},
     "output_type": "execute_result"
    }
   ],
   "source": [
    "# Import and read the NYMEX Crude Oil Historical Futures Prices data\n",
    "file_path = \"../Resources/raw_datasets/\"\n",
    "futures_price_file = f\"{file_path}/NYMEX_Crude_Oil_Historical_Futures_Prices.csv\"\n",
    "\n",
    "futures_price_df = pd.read_csv(futures_price_file, skiprows = 2)\n",
    "futures_price_df.head()"
   ]
  },
  {
   "cell_type": "code",
   "execution_count": 3,
   "id": "be8402cb",
   "metadata": {},
   "outputs": [
    {
     "data": {
      "text/plain": [
       "['Date',\n",
       " 'Cushing, OK Crude Oil Future Contract 1 (Dollars per Barrel)',\n",
       " 'Cushing, OK Crude Oil Future Contract 2 (Dollars per Barrel)',\n",
       " 'Cushing, OK Crude Oil Future Contract 3 (Dollars per Barrel)',\n",
       " 'Cushing, OK Crude Oil Future Contract 4 (Dollars per Barrel)',\n",
       " 'Unnamed: 5']"
      ]
     },
     "execution_count": 3,
     "metadata": {},
     "output_type": "execute_result"
    }
   ],
   "source": [
    "# Check all of the column names that were imported\n",
    "futures_price_df.columns.tolist()"
   ]
  },
  {
   "cell_type": "code",
   "execution_count": 4,
   "id": "e19f5d52",
   "metadata": {},
   "outputs": [
    {
     "data": {
      "text/html": [
       "<div>\n",
       "<style scoped>\n",
       "    .dataframe tbody tr th:only-of-type {\n",
       "        vertical-align: middle;\n",
       "    }\n",
       "\n",
       "    .dataframe tbody tr th {\n",
       "        vertical-align: top;\n",
       "    }\n",
       "\n",
       "    .dataframe thead th {\n",
       "        text-align: right;\n",
       "    }\n",
       "</style>\n",
       "<table border=\"1\" class=\"dataframe\">\n",
       "  <thead>\n",
       "    <tr style=\"text-align: right;\">\n",
       "      <th></th>\n",
       "      <th>Date</th>\n",
       "      <th>Cushing, OK Crude Oil Future Contract 1 (Dollars per Barrel)</th>\n",
       "    </tr>\n",
       "  </thead>\n",
       "  <tbody>\n",
       "    <tr>\n",
       "      <th>0</th>\n",
       "      <td>Mar 30, 1983</td>\n",
       "      <td>NaN</td>\n",
       "    </tr>\n",
       "    <tr>\n",
       "      <th>1</th>\n",
       "      <td>Mar 31, 1983</td>\n",
       "      <td>NaN</td>\n",
       "    </tr>\n",
       "    <tr>\n",
       "      <th>2</th>\n",
       "      <td>Apr 04, 1983</td>\n",
       "      <td>29.44</td>\n",
       "    </tr>\n",
       "    <tr>\n",
       "      <th>3</th>\n",
       "      <td>Apr 05, 1983</td>\n",
       "      <td>29.71</td>\n",
       "    </tr>\n",
       "    <tr>\n",
       "      <th>4</th>\n",
       "      <td>Apr 06, 1983</td>\n",
       "      <td>29.92</td>\n",
       "    </tr>\n",
       "  </tbody>\n",
       "</table>\n",
       "</div>"
      ],
      "text/plain": [
       "           Date  Cushing, OK Crude Oil Future Contract 1 (Dollars per Barrel)\n",
       "0  Mar 30, 1983                                                NaN           \n",
       "1  Mar 31, 1983                                                NaN           \n",
       "2  Apr 04, 1983                                              29.44           \n",
       "3  Apr 05, 1983                                              29.71           \n",
       "4  Apr 06, 1983                                              29.92           "
      ]
     },
     "execution_count": 4,
     "metadata": {},
     "output_type": "execute_result"
    }
   ],
   "source": [
    "# Create a DataFrame with the columns that we want to keep\n",
    "futures_price_df = futures_price_df[[\n",
    "    \"Date\", \n",
    "    \"Cushing, OK Crude Oil Future Contract 1 (Dollars per Barrel)\"]]\n",
    "\n",
    "futures_price_df.head()"
   ]
  },
  {
   "cell_type": "code",
   "execution_count": 5,
   "id": "d46c2843",
   "metadata": {},
   "outputs": [
    {
     "data": {
      "text/html": [
       "<div>\n",
       "<style scoped>\n",
       "    .dataframe tbody tr th:only-of-type {\n",
       "        vertical-align: middle;\n",
       "    }\n",
       "\n",
       "    .dataframe tbody tr th {\n",
       "        vertical-align: top;\n",
       "    }\n",
       "\n",
       "    .dataframe thead th {\n",
       "        text-align: right;\n",
       "    }\n",
       "</style>\n",
       "<table border=\"1\" class=\"dataframe\">\n",
       "  <thead>\n",
       "    <tr style=\"text-align: right;\">\n",
       "      <th></th>\n",
       "      <th>Date</th>\n",
       "      <th>Cushing, OK Crude Oil Future Contract ($/Bar.)</th>\n",
       "    </tr>\n",
       "  </thead>\n",
       "  <tbody>\n",
       "    <tr>\n",
       "      <th>0</th>\n",
       "      <td>Mar 30, 1983</td>\n",
       "      <td>NaN</td>\n",
       "    </tr>\n",
       "    <tr>\n",
       "      <th>1</th>\n",
       "      <td>Mar 31, 1983</td>\n",
       "      <td>NaN</td>\n",
       "    </tr>\n",
       "    <tr>\n",
       "      <th>2</th>\n",
       "      <td>Apr 04, 1983</td>\n",
       "      <td>29.44</td>\n",
       "    </tr>\n",
       "    <tr>\n",
       "      <th>3</th>\n",
       "      <td>Apr 05, 1983</td>\n",
       "      <td>29.71</td>\n",
       "    </tr>\n",
       "    <tr>\n",
       "      <th>4</th>\n",
       "      <td>Apr 06, 1983</td>\n",
       "      <td>29.92</td>\n",
       "    </tr>\n",
       "  </tbody>\n",
       "</table>\n",
       "</div>"
      ],
      "text/plain": [
       "           Date  Cushing, OK Crude Oil Future Contract ($/Bar.)\n",
       "0  Mar 30, 1983                                             NaN\n",
       "1  Mar 31, 1983                                             NaN\n",
       "2  Apr 04, 1983                                           29.44\n",
       "3  Apr 05, 1983                                           29.71\n",
       "4  Apr 06, 1983                                           29.92"
      ]
     },
     "execution_count": 5,
     "metadata": {},
     "output_type": "execute_result"
    }
   ],
   "source": [
    "# Rename the columns\n",
    "futures_price_df.columns = [\"Date\", \n",
    "                            \"Cushing, OK Crude Oil Future Contract ($/Bar.)\"]\n",
    "futures_price_df.head()"
   ]
  },
  {
   "cell_type": "code",
   "execution_count": 6,
   "id": "50e177e4",
   "metadata": {},
   "outputs": [
    {
     "data": {
      "text/plain": [
       "Date                                               object\n",
       "Cushing, OK Crude Oil Future Contract ($/Bar.)    float64\n",
       "dtype: object"
      ]
     },
     "execution_count": 6,
     "metadata": {},
     "output_type": "execute_result"
    }
   ],
   "source": [
    "# Check the datatypes\n",
    "futures_price_df.dtypes"
   ]
  },
  {
   "cell_type": "code",
   "execution_count": 7,
   "id": "9fcd8a33",
   "metadata": {},
   "outputs": [
    {
     "data": {
      "text/plain": [
       "9743"
      ]
     },
     "execution_count": 7,
     "metadata": {},
     "output_type": "execute_result"
    }
   ],
   "source": [
    "# Check how many records were pulled in\n",
    "len(futures_price_df)"
   ]
  },
  {
   "cell_type": "code",
   "execution_count": 8,
   "id": "d3548aa1",
   "metadata": {},
   "outputs": [
    {
     "data": {
      "text/plain": [
       "Date                                              1\n",
       "Cushing, OK Crude Oil Future Contract ($/Bar.)    6\n",
       "dtype: int64"
      ]
     },
     "execution_count": 8,
     "metadata": {},
     "output_type": "execute_result"
    }
   ],
   "source": [
    "# Determine if there are any missing values in the data\n",
    "futures_price_df.isnull().sum()"
   ]
  },
  {
   "cell_type": "code",
   "execution_count": 9,
   "id": "46549c14",
   "metadata": {},
   "outputs": [],
   "source": [
    "# Drop the null values\n",
    "futures_price_df = futures_price_df.dropna()"
   ]
  },
  {
   "cell_type": "code",
   "execution_count": 10,
   "id": "49294d28",
   "metadata": {},
   "outputs": [
    {
     "data": {
      "text/plain": [
       "Date                                              0\n",
       "Cushing, OK Crude Oil Future Contract ($/Bar.)    0\n",
       "dtype: int64"
      ]
     },
     "execution_count": 10,
     "metadata": {},
     "output_type": "execute_result"
    }
   ],
   "source": [
    "# Determine if there are any missing values in the data\n",
    "futures_price_df.isnull().sum()"
   ]
  },
  {
   "cell_type": "code",
   "execution_count": 11,
   "id": "d28bbd35",
   "metadata": {},
   "outputs": [
    {
     "data": {
      "text/html": [
       "<div>\n",
       "<style scoped>\n",
       "    .dataframe tbody tr th:only-of-type {\n",
       "        vertical-align: middle;\n",
       "    }\n",
       "\n",
       "    .dataframe tbody tr th {\n",
       "        vertical-align: top;\n",
       "    }\n",
       "\n",
       "    .dataframe thead th {\n",
       "        text-align: right;\n",
       "    }\n",
       "</style>\n",
       "<table border=\"1\" class=\"dataframe\">\n",
       "  <thead>\n",
       "    <tr style=\"text-align: right;\">\n",
       "      <th></th>\n",
       "      <th>Date</th>\n",
       "      <th>Cushing, OK Crude Oil Future Contract ($/Bar.)</th>\n",
       "    </tr>\n",
       "  </thead>\n",
       "  <tbody>\n",
       "    <tr>\n",
       "      <th>2</th>\n",
       "      <td>1983-04-04</td>\n",
       "      <td>29.44</td>\n",
       "    </tr>\n",
       "    <tr>\n",
       "      <th>3</th>\n",
       "      <td>1983-04-05</td>\n",
       "      <td>29.71</td>\n",
       "    </tr>\n",
       "    <tr>\n",
       "      <th>4</th>\n",
       "      <td>1983-04-06</td>\n",
       "      <td>29.92</td>\n",
       "    </tr>\n",
       "    <tr>\n",
       "      <th>5</th>\n",
       "      <td>1983-04-07</td>\n",
       "      <td>30.17</td>\n",
       "    </tr>\n",
       "    <tr>\n",
       "      <th>6</th>\n",
       "      <td>1983-04-08</td>\n",
       "      <td>30.38</td>\n",
       "    </tr>\n",
       "  </tbody>\n",
       "</table>\n",
       "</div>"
      ],
      "text/plain": [
       "        Date  Cushing, OK Crude Oil Future Contract ($/Bar.)\n",
       "2 1983-04-04                                           29.44\n",
       "3 1983-04-05                                           29.71\n",
       "4 1983-04-06                                           29.92\n",
       "5 1983-04-07                                           30.17\n",
       "6 1983-04-08                                           30.38"
      ]
     },
     "execution_count": 11,
     "metadata": {},
     "output_type": "execute_result"
    }
   ],
   "source": [
    "# Convert Data types\n",
    "futures_price_df[\"Date\"] = pd.to_datetime(futures_price_df[\"Date\"])\n",
    "futures_price_df.head()"
   ]
  },
  {
   "cell_type": "code",
   "execution_count": 12,
   "id": "8ceaced5",
   "metadata": {},
   "outputs": [
    {
     "data": {
      "text/html": [
       "<div>\n",
       "<style scoped>\n",
       "    .dataframe tbody tr th:only-of-type {\n",
       "        vertical-align: middle;\n",
       "    }\n",
       "\n",
       "    .dataframe tbody tr th {\n",
       "        vertical-align: top;\n",
       "    }\n",
       "\n",
       "    .dataframe thead th {\n",
       "        text-align: right;\n",
       "    }\n",
       "</style>\n",
       "<table border=\"1\" class=\"dataframe\">\n",
       "  <thead>\n",
       "    <tr style=\"text-align: right;\">\n",
       "      <th></th>\n",
       "      <th>Date</th>\n",
       "      <th>Cushing, OK Crude Oil Future Contract ($/Bar.)</th>\n",
       "    </tr>\n",
       "  </thead>\n",
       "  <tbody>\n",
       "    <tr>\n",
       "      <th>691</th>\n",
       "      <td>1986-01-02</td>\n",
       "      <td>25.56</td>\n",
       "    </tr>\n",
       "    <tr>\n",
       "      <th>692</th>\n",
       "      <td>1986-01-03</td>\n",
       "      <td>25.97</td>\n",
       "    </tr>\n",
       "    <tr>\n",
       "      <th>693</th>\n",
       "      <td>1986-01-06</td>\n",
       "      <td>26.57</td>\n",
       "    </tr>\n",
       "    <tr>\n",
       "      <th>694</th>\n",
       "      <td>1986-01-07</td>\n",
       "      <td>26.20</td>\n",
       "    </tr>\n",
       "    <tr>\n",
       "      <th>695</th>\n",
       "      <td>1986-01-08</td>\n",
       "      <td>25.93</td>\n",
       "    </tr>\n",
       "  </tbody>\n",
       "</table>\n",
       "</div>"
      ],
      "text/plain": [
       "          Date  Cushing, OK Crude Oil Future Contract ($/Bar.)\n",
       "691 1986-01-02                                           25.56\n",
       "692 1986-01-03                                           25.97\n",
       "693 1986-01-06                                           26.57\n",
       "694 1986-01-07                                           26.20\n",
       "695 1986-01-08                                           25.93"
      ]
     },
     "execution_count": 12,
     "metadata": {},
     "output_type": "execute_result"
    }
   ],
   "source": [
    "# Filter the DataFrame between two dates\n",
    "futures_price_df = futures_price_df[(futures_price_df[\"Date\"] >= \"1986-01-01\") & (futures_price_df[\"Date\"] <= \"2021-10-31\")]\n",
    "futures_price_df.head()"
   ]
  },
  {
   "cell_type": "code",
   "execution_count": 13,
   "id": "499ed2c6",
   "metadata": {},
   "outputs": [
    {
     "data": {
      "text/html": [
       "<div>\n",
       "<style scoped>\n",
       "    .dataframe tbody tr th:only-of-type {\n",
       "        vertical-align: middle;\n",
       "    }\n",
       "\n",
       "    .dataframe tbody tr th {\n",
       "        vertical-align: top;\n",
       "    }\n",
       "\n",
       "    .dataframe thead th {\n",
       "        text-align: right;\n",
       "    }\n",
       "</style>\n",
       "<table border=\"1\" class=\"dataframe\">\n",
       "  <thead>\n",
       "    <tr style=\"text-align: right;\">\n",
       "      <th></th>\n",
       "      <th>Date</th>\n",
       "      <th>Cushing, OK Crude Oil Future Contract ($/Bar.)</th>\n",
       "    </tr>\n",
       "  </thead>\n",
       "  <tbody>\n",
       "    <tr>\n",
       "      <th>9688</th>\n",
       "      <td>2021-10-25</td>\n",
       "      <td>83.76</td>\n",
       "    </tr>\n",
       "    <tr>\n",
       "      <th>9689</th>\n",
       "      <td>2021-10-26</td>\n",
       "      <td>84.65</td>\n",
       "    </tr>\n",
       "    <tr>\n",
       "      <th>9690</th>\n",
       "      <td>2021-10-27</td>\n",
       "      <td>82.66</td>\n",
       "    </tr>\n",
       "    <tr>\n",
       "      <th>9691</th>\n",
       "      <td>2021-10-28</td>\n",
       "      <td>82.81</td>\n",
       "    </tr>\n",
       "    <tr>\n",
       "      <th>9692</th>\n",
       "      <td>2021-10-29</td>\n",
       "      <td>83.57</td>\n",
       "    </tr>\n",
       "  </tbody>\n",
       "</table>\n",
       "</div>"
      ],
      "text/plain": [
       "           Date  Cushing, OK Crude Oil Future Contract ($/Bar.)\n",
       "9688 2021-10-25                                           83.76\n",
       "9689 2021-10-26                                           84.65\n",
       "9690 2021-10-27                                           82.66\n",
       "9691 2021-10-28                                           82.81\n",
       "9692 2021-10-29                                           83.57"
      ]
     },
     "execution_count": 13,
     "metadata": {},
     "output_type": "execute_result"
    }
   ],
   "source": [
    "futures_price_df.tail()"
   ]
  },
  {
   "cell_type": "code",
   "execution_count": 14,
   "id": "449550a6",
   "metadata": {},
   "outputs": [
    {
     "data": {
      "text/html": [
       "<div>\n",
       "<style scoped>\n",
       "    .dataframe tbody tr th:only-of-type {\n",
       "        vertical-align: middle;\n",
       "    }\n",
       "\n",
       "    .dataframe tbody tr th {\n",
       "        vertical-align: top;\n",
       "    }\n",
       "\n",
       "    .dataframe thead th {\n",
       "        text-align: right;\n",
       "    }\n",
       "</style>\n",
       "<table border=\"1\" class=\"dataframe\">\n",
       "  <thead>\n",
       "    <tr style=\"text-align: right;\">\n",
       "      <th></th>\n",
       "      <th>Cushing, OK Crude Oil Future Contract ($/Bar.)</th>\n",
       "    </tr>\n",
       "    <tr>\n",
       "      <th>Date</th>\n",
       "      <th></th>\n",
       "    </tr>\n",
       "  </thead>\n",
       "  <tbody>\n",
       "    <tr>\n",
       "      <th>1986-01</th>\n",
       "      <td>22.976818</td>\n",
       "    </tr>\n",
       "    <tr>\n",
       "      <th>1986-02</th>\n",
       "      <td>15.457368</td>\n",
       "    </tr>\n",
       "    <tr>\n",
       "      <th>1986-03</th>\n",
       "      <td>12.615000</td>\n",
       "    </tr>\n",
       "    <tr>\n",
       "      <th>1986-04</th>\n",
       "      <td>12.753636</td>\n",
       "    </tr>\n",
       "    <tr>\n",
       "      <th>1986-05</th>\n",
       "      <td>15.264286</td>\n",
       "    </tr>\n",
       "  </tbody>\n",
       "</table>\n",
       "</div>"
      ],
      "text/plain": [
       "         Cushing, OK Crude Oil Future Contract ($/Bar.)\n",
       "Date                                                   \n",
       "1986-01                                       22.976818\n",
       "1986-02                                       15.457368\n",
       "1986-03                                       12.615000\n",
       "1986-04                                       12.753636\n",
       "1986-05                                       15.264286"
      ]
     },
     "execution_count": 14,
     "metadata": {},
     "output_type": "execute_result"
    }
   ],
   "source": [
    "# Calculate the average for each month and year for all columns\n",
    "avg_future_contract = futures_price_df[\"Date\"].dt.to_period(\"M\")  \n",
    "\n",
    "futures_price_df = futures_price_df.groupby(avg_future_contract).mean()\n",
    "futures_price_df.head()"
   ]
  },
  {
   "cell_type": "code",
   "execution_count": 15,
   "id": "2a185fc6",
   "metadata": {},
   "outputs": [
    {
     "data": {
      "text/html": [
       "<div>\n",
       "<style scoped>\n",
       "    .dataframe tbody tr th:only-of-type {\n",
       "        vertical-align: middle;\n",
       "    }\n",
       "\n",
       "    .dataframe tbody tr th {\n",
       "        vertical-align: top;\n",
       "    }\n",
       "\n",
       "    .dataframe thead th {\n",
       "        text-align: right;\n",
       "    }\n",
       "</style>\n",
       "<table border=\"1\" class=\"dataframe\">\n",
       "  <thead>\n",
       "    <tr style=\"text-align: right;\">\n",
       "      <th></th>\n",
       "      <th>Cushing, OK Crude Oil Future Contract ($/Bar.)</th>\n",
       "    </tr>\n",
       "    <tr>\n",
       "      <th>Date</th>\n",
       "      <th></th>\n",
       "    </tr>\n",
       "  </thead>\n",
       "  <tbody>\n",
       "    <tr>\n",
       "      <th>1986-01</th>\n",
       "      <td>23.0</td>\n",
       "    </tr>\n",
       "    <tr>\n",
       "      <th>1986-02</th>\n",
       "      <td>15.5</td>\n",
       "    </tr>\n",
       "    <tr>\n",
       "      <th>1986-03</th>\n",
       "      <td>12.6</td>\n",
       "    </tr>\n",
       "    <tr>\n",
       "      <th>1986-04</th>\n",
       "      <td>12.8</td>\n",
       "    </tr>\n",
       "    <tr>\n",
       "      <th>1986-05</th>\n",
       "      <td>15.3</td>\n",
       "    </tr>\n",
       "  </tbody>\n",
       "</table>\n",
       "</div>"
      ],
      "text/plain": [
       "         Cushing, OK Crude Oil Future Contract ($/Bar.)\n",
       "Date                                                   \n",
       "1986-01                                            23.0\n",
       "1986-02                                            15.5\n",
       "1986-03                                            12.6\n",
       "1986-04                                            12.8\n",
       "1986-05                                            15.3"
      ]
     },
     "execution_count": 15,
     "metadata": {},
     "output_type": "execute_result"
    }
   ],
   "source": [
    "# Round to specific decimals places \n",
    "futures_price_df = futures_price_df.round(decimals = 1)\n",
    "futures_price_df.head()"
   ]
  },
  {
   "cell_type": "code",
   "execution_count": 16,
   "id": "d1169d0e",
   "metadata": {},
   "outputs": [
    {
     "data": {
      "text/html": [
       "<div>\n",
       "<style scoped>\n",
       "    .dataframe tbody tr th:only-of-type {\n",
       "        vertical-align: middle;\n",
       "    }\n",
       "\n",
       "    .dataframe tbody tr th {\n",
       "        vertical-align: top;\n",
       "    }\n",
       "\n",
       "    .dataframe thead th {\n",
       "        text-align: right;\n",
       "    }\n",
       "</style>\n",
       "<table border=\"1\" class=\"dataframe\">\n",
       "  <thead>\n",
       "    <tr style=\"text-align: right;\">\n",
       "      <th></th>\n",
       "      <th>Cushing, OK Crude Oil Future Contract ($/Bar.)</th>\n",
       "    </tr>\n",
       "    <tr>\n",
       "      <th>Date</th>\n",
       "      <th></th>\n",
       "    </tr>\n",
       "  </thead>\n",
       "  <tbody>\n",
       "    <tr>\n",
       "      <th>Jan-1986</th>\n",
       "      <td>23.0</td>\n",
       "    </tr>\n",
       "    <tr>\n",
       "      <th>Feb-1986</th>\n",
       "      <td>15.5</td>\n",
       "    </tr>\n",
       "    <tr>\n",
       "      <th>Mar-1986</th>\n",
       "      <td>12.6</td>\n",
       "    </tr>\n",
       "    <tr>\n",
       "      <th>Apr-1986</th>\n",
       "      <td>12.8</td>\n",
       "    </tr>\n",
       "    <tr>\n",
       "      <th>May-1986</th>\n",
       "      <td>15.3</td>\n",
       "    </tr>\n",
       "  </tbody>\n",
       "</table>\n",
       "</div>"
      ],
      "text/plain": [
       "          Cushing, OK Crude Oil Future Contract ($/Bar.)\n",
       "Date                                                    \n",
       "Jan-1986                                            23.0\n",
       "Feb-1986                                            15.5\n",
       "Mar-1986                                            12.6\n",
       "Apr-1986                                            12.8\n",
       "May-1986                                            15.3"
      ]
     },
     "execution_count": 16,
     "metadata": {},
     "output_type": "execute_result"
    }
   ],
   "source": [
    "# Convert type from pandas period to string\n",
    "futures_price_df.index = futures_price_df.index.strftime(\"%b-%Y\")\n",
    "futures_price_df.head()"
   ]
  },
  {
   "cell_type": "code",
   "execution_count": 17,
   "id": "a5fedffe",
   "metadata": {},
   "outputs": [
    {
     "data": {
      "text/html": [
       "<div>\n",
       "<style scoped>\n",
       "    .dataframe tbody tr th:only-of-type {\n",
       "        vertical-align: middle;\n",
       "    }\n",
       "\n",
       "    .dataframe tbody tr th {\n",
       "        vertical-align: top;\n",
       "    }\n",
       "\n",
       "    .dataframe thead th {\n",
       "        text-align: right;\n",
       "    }\n",
       "</style>\n",
       "<table border=\"1\" class=\"dataframe\">\n",
       "  <thead>\n",
       "    <tr style=\"text-align: right;\">\n",
       "      <th></th>\n",
       "      <th>Date</th>\n",
       "      <th>Cushing, OK Crude Oil Future Contract ($/Bar.)</th>\n",
       "    </tr>\n",
       "  </thead>\n",
       "  <tbody>\n",
       "    <tr>\n",
       "      <th>0</th>\n",
       "      <td>Jan-1986</td>\n",
       "      <td>23.0</td>\n",
       "    </tr>\n",
       "    <tr>\n",
       "      <th>1</th>\n",
       "      <td>Feb-1986</td>\n",
       "      <td>15.5</td>\n",
       "    </tr>\n",
       "    <tr>\n",
       "      <th>2</th>\n",
       "      <td>Mar-1986</td>\n",
       "      <td>12.6</td>\n",
       "    </tr>\n",
       "    <tr>\n",
       "      <th>3</th>\n",
       "      <td>Apr-1986</td>\n",
       "      <td>12.8</td>\n",
       "    </tr>\n",
       "    <tr>\n",
       "      <th>4</th>\n",
       "      <td>May-1986</td>\n",
       "      <td>15.3</td>\n",
       "    </tr>\n",
       "  </tbody>\n",
       "</table>\n",
       "</div>"
      ],
      "text/plain": [
       "       Date  Cushing, OK Crude Oil Future Contract ($/Bar.)\n",
       "0  Jan-1986                                            23.0\n",
       "1  Feb-1986                                            15.5\n",
       "2  Mar-1986                                            12.6\n",
       "3  Apr-1986                                            12.8\n",
       "4  May-1986                                            15.3"
      ]
     },
     "execution_count": 17,
     "metadata": {},
     "output_type": "execute_result"
    }
   ],
   "source": [
    "# Convert the Index to Column\n",
    "futures_price_df.reset_index(inplace=True)\n",
    "futures_price_df.head()"
   ]
  },
  {
   "cell_type": "code",
   "execution_count": 18,
   "id": "cb37b752",
   "metadata": {},
   "outputs": [],
   "source": [
    "# Export the Dataframe as a new CSV file without the index.\n",
    "futures_price_df.to_csv(\"../Resources/clean_datasets/Cleaned_NYMEX_Crude_Oil_Historical_Futures_Prices.csv\", index=False)"
   ]
  },
  {
   "cell_type": "code",
   "execution_count": null,
   "id": "054331d8",
   "metadata": {},
   "outputs": [],
   "source": []
  }
 ],
 "metadata": {
  "kernelspec": {
   "display_name": "mlenv",
   "language": "python",
   "name": "mlenv"
  },
  "language_info": {
   "codemirror_mode": {
    "name": "ipython",
    "version": 3
   },
   "file_extension": ".py",
   "mimetype": "text/x-python",
   "name": "python",
   "nbconvert_exporter": "python",
   "pygments_lexer": "ipython3",
   "version": "3.7.11"
  }
 },
 "nbformat": 4,
 "nbformat_minor": 5
}
