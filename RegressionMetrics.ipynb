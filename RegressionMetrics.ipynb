{
 "cells": [
  {
   "cell_type": "code",
   "execution_count": null,
   "id": "7385659d",
   "metadata": {},
   "outputs": [],
   "source": [
    "# building a function for output of regression metrics\n",
    "import sklearn.metrics as metrics\n",
    "def regression_results(y_true, y_pred):\n",
    "    Explained_Var=metrics.explained_variance_score(y_true, y_pred)\n",
    "    Mean_Absolute_Error=metrics.mean_absolute_error(y_true, y_pred) \n",
    "    MSE=metrics.mean_squared_error(y_true, y_pred) \n",
    "    r2=metrics.r2_score(y_true, y_pred)\n",
    "    print('Explained_Var: ', round(Explained_Var,4))    \n",
    "    print('r2: ', round(r2,4))\n",
    "    print('MAE: ', round(Mean_Absolute_Error,4))\n",
    "    print('MSE: ', round(MSE,4))\n",
    "    print('RMSE: ', round(np.sqrt(mse),4))"
   ]
  }
 ],
 "metadata": {
  "kernelspec": {
   "display_name": "mlenv",
   "language": "python",
   "name": "mlenv"
  },
  "language_info": {
   "codemirror_mode": {
    "name": "ipython",
    "version": 3
   },
   "file_extension": ".py",
   "mimetype": "text/x-python",
   "name": "python",
   "nbconvert_exporter": "python",
   "pygments_lexer": "ipython3",
   "version": "3.7.11"
  }
 },
 "nbformat": 4,
 "nbformat_minor": 5
}
